{
  "nbformat": 4,
  "nbformat_minor": 0,
  "metadata": {
    "colab": {
      "provenance": [],
      "machine_shape": "hm",
      "gpuType": "V28",
      "mount_file_id": "1_jCPSBYfWnisQHJy2QymPenjbB9rE27F",
      "authorship_tag": "ABX9TyP1yN3swN+45xTmHN5wdWjE",
      "include_colab_link": true
    },
    "kernelspec": {
      "name": "python3",
      "display_name": "Python 3"
    },
    "language_info": {
      "name": "python"
    },
    "accelerator": "TPU"
  },
  "cells": [
    {
      "cell_type": "markdown",
      "metadata": {
        "id": "view-in-github",
        "colab_type": "text"
      },
      "source": [
        "<a href=\"https://colab.research.google.com/github/Info-stats-ai/Info-stats-ai/blob/main/Movie_recommendation_system.ipynb\" target=\"_parent\"><img src=\"https://colab.research.google.com/assets/colab-badge.svg\" alt=\"Open In Colab\"/></a>"
      ]
    },
    {
      "cell_type": "code",
      "execution_count": null,
      "metadata": {
        "colab": {
          "base_uri": "https://localhost:8080/"
        },
        "id": "o2Ur26mzyI7O",
        "outputId": "7ada3adf-309e-4919-db93-4b19de575b62"
      },
      "outputs": [
        {
          "output_type": "stream",
          "name": "stdout",
          "text": [
            "Archive:  /content/netflix_movie_reccomendation.zip\n",
            "  inflating: README                  \n",
            "  inflating: combined_data_1.txt     \n",
            "  inflating: combined_data_2.txt     \n",
            "  inflating: combined_data_3.txt     \n",
            "  inflating: combined_data_4.txt     \n",
            "  inflating: movie_titles.csv        \n",
            "  inflating: probe.txt               \n",
            "  inflating: qualifying.txt          \n"
          ]
        }
      ],
      "source": [
        "! unzip /content/netflix_movie_reccomendation.zip"
      ]
    },
    {
      "cell_type": "code",
      "source": [
        "import pandas as pd\n",
        "import numpy as np\n",
        "import matplotlib.pyplot as plt\n",
        "import seaborn as sns\n",
        "from datetime import datetime\n",
        "import os"
      ],
      "metadata": {
        "id": "fN77zKcWykDo"
      },
      "execution_count": null,
      "outputs": []
    },
    {
      "cell_type": "code",
      "source": [
        "start = datetime.now()\n",
        "if not os.path.isfile('/content/data.csv'):\n",
        "#create a new csv file\n",
        "#read all the file in netflix and store them in one data file\n",
        "# We are reading from each of the 4 -5 files and appendin each rating\n",
        "  data = open('data.csv', mode='w')\n",
        "  row = list()\n",
        "  files = ['combined_data_1.txt','combined_data_2.txt',\n",
        "           'combined_data_3.txt','combined_data_4.txt']\n",
        "for file in files:\n",
        "  print(\"Reading ratings from {}...\".format(file))\n",
        "  with open(file) as f:\n",
        "    for line in f:\n",
        "\n",
        "      line = line.strip()\n",
        "      if line.endswith(':'):\n",
        "        #All below are ratings for this movie, until another movie appears\n",
        "        movie_id = line.replace(':', '')\n",
        "      else:\n",
        "        row = [x for x in line.split(',')] # row is in list form\n",
        "        # so basically I am making serties of list of same movie id\n",
        "        # and then appending them by join and getting return a string rathert\n",
        "        #then a list for csv file\n",
        "        row.insert(0, movie_id)\n",
        "        data.write(','.join(row))\n",
        "        data.write('\\n')\n",
        "  print(\"Done.\\n\")\n",
        "data.close()\n",
        "print(\"Time taken:\", datetime.now() - start)"
      ],
      "metadata": {
        "colab": {
          "base_uri": "https://localhost:8080/"
        },
        "id": "sz48YSCbyowq",
        "outputId": "0831c8ae-1f54-4f61-f2cb-d67ca7e87b87"
      },
      "execution_count": null,
      "outputs": [
        {
          "output_type": "stream",
          "name": "stdout",
          "text": [
            "Reading ratings from combined_data_1.txt...\n",
            "Done.\n",
            "\n",
            "Reading ratings from combined_data_2.txt...\n",
            "Done.\n",
            "\n",
            "Reading ratings from combined_data_3.txt...\n",
            "Done.\n",
            "\n",
            "Reading ratings from combined_data_4.txt...\n",
            "Done.\n",
            "\n",
            "Time taken: 0:01:28.742068\n"
          ]
        }
      ]
    },
    {
      "cell_type": "markdown",
      "source": [
        "\n",
        "\n",
        "---\n",
        "\n",
        "\n",
        "#### **1. Iterating Over Files**\n",
        "```python\n",
        "for file in files:\n",
        "  print(\"Reading ratings from {}...\".format(file))\n",
        "```\n",
        "- `files` is a list containing filenames.\n",
        "- The loop iterates over each file, printing a message before reading it.\n",
        "\n",
        "---\n",
        "\n",
        "#### **2. Opening Each File**\n",
        "```python\n",
        "with open(file) as f:\n",
        "```\n",
        "- Opens the file (`file`) in **read mode** (`'r'` by default).\n",
        "- The `with` statement ensures proper closing of the file after reading.\n",
        "\n",
        "---\n",
        "\n",
        "#### **3. Processing Each Line**\n",
        "```python\n",
        "for line in f:\n",
        "```\n",
        "- Iterates over each line in the file.\n",
        "\n",
        "```python\n",
        "line = line.strip()\n",
        "```\n",
        "- Removes **leading and trailing whitespace** (including newline characters).\n",
        "\n",
        "---\n",
        "\n",
        "#### **4. Identifying Movie IDs**\n",
        "```python\n",
        "if line.endswith(':'):\n",
        "    # All below are ratings for this movie, until another movie appears\n",
        "    movie_id = line.replace(':', '')\n",
        "```\n",
        "- If a line **ends with a colon (`:`)**, it represents a **movie ID**.\n",
        "- `movie_id = line.replace(':', '')` removes the colon (`:`), storing only the movie ID.\n",
        "\n",
        "✔️ **Why?**  \n",
        "The dataset format might be something like:\n",
        "```\n",
        "1:\n",
        "23,3,2005-09-06\n",
        "54,5,2005-09-08\n",
        "2:\n",
        "12,4,2005-09-07\n",
        "```\n",
        "Here:\n",
        "- `1:` is the **movie ID**.\n",
        "- The following rows represent **user ratings for that movie**.\n",
        "- `2:` indicates ratings for another movie.\n",
        "\n",
        "---\n",
        "\n",
        "#### **5. Processing Rating Lines**\n",
        "```python\n",
        "else:\n",
        "    row = [x for x in line.split(',')]\n",
        "```\n",
        "- If the line **does not** end with `:`, it represents **user ratings**.\n",
        "- `line.split(',')` splits the line into a list (e.g., `['23', '3', '2005-09-06']`).\n",
        "\n",
        "```python\n",
        "row.insert(0, movie_id)\n",
        "```\n",
        "- **Inserts the movie ID** at the start of `row`, making it:\n",
        "  ```\n",
        "  ['1', '23', '3', '2005-09-06']\n",
        "  ```\n",
        "  for the first rating.\n",
        "\n",
        "```python\n",
        "data.write(','.join(row))\n",
        "data.write('\\n')\n",
        "```\n",
        "- Joins the modified row **back into a comma-separated string**.\n",
        "- Writes it into the output file (`data`).\n",
        "\n",
        "✔️ **Why?**  \n",
        "This ensures that every rating entry includes its **movie ID**, making the data structured for further analysis.\n",
        "\n",
        "\n",
        "12,4,2005-09-07\n",
        "```\n"
      ],
      "metadata": {
        "id": "8APd0K572G1_"
      }
    },
    {
      "cell_type": "code",
      "source": [],
      "metadata": {
        "id": "tRdQfo_42GNF"
      },
      "execution_count": null,
      "outputs": []
    },
    {
      "cell_type": "code",
      "source": [
        "df = pd.read_csv('data.csv', sep=',', names=['movie', 'user','rating','date'])"
      ],
      "metadata": {
        "id": "6C65oGFmyrnx"
      },
      "execution_count": null,
      "outputs": []
    },
    {
      "cell_type": "code",
      "source": [
        "df.date = pd.to_datetime(df.date)\n",
        "print(df.head())"
      ],
      "metadata": {
        "id": "kyX283QeyxQu",
        "colab": {
          "base_uri": "https://localhost:8080/"
        },
        "outputId": "dd13dfe0-e626-4bb6-c9ce-542afd67dd05"
      },
      "execution_count": null,
      "outputs": [
        {
          "output_type": "stream",
          "name": "stdout",
          "text": [
            "   movie     user  rating       date\n",
            "0      1  1488844       3 2005-09-06\n",
            "1      1   822109       5 2005-05-13\n",
            "2      1   885013       4 2005-10-19\n",
            "3      1    30878       4 2005-12-26\n",
            "4      1   823519       3 2004-05-03\n"
          ]
        }
      ]
    },
    {
      "cell_type": "code",
      "source": [
        "df.sort_values(by='date',inplace=True)\n",
        "# inplace = True , data is modified"
      ],
      "metadata": {
        "id": "Px3YAnoay00R"
      },
      "execution_count": null,
      "outputs": []
    },
    {
      "cell_type": "code",
      "source": [
        "# splitting training and test data\n",
        "# but I am not going to store all the train and test data in one file\n",
        "# we have to store the in the disk so that memory is less used\n",
        "# and also for off line purpose\n",
        "# as it is time based data we cannot use train -test split"
      ],
      "metadata": {
        "id": "_qIpGP8czBTn"
      },
      "execution_count": null,
      "outputs": []
    },
    {
      "cell_type": "code",
      "source": [
        "if not os.path.isfile(\"train.csv\"):\n",
        "  df.iloc[0 : int(df.shape[0]*0.80)].to_csv(\"train.csv\",index=False)\n",
        "\n",
        "  if not os.path.isfile(\"test.csv\"):\n",
        "    df.iloc[int(df.shape[0]*0.80) :].to_csv(\"test.csv\",index=False)"
      ],
      "metadata": {
        "id": "BLo_RQj4zDjP"
      },
      "execution_count": null,
      "outputs": []
    },
    {
      "cell_type": "code",
      "source": [
        "train_df = pd.read_csv(\"train.csv\", parse_dates=['date'])\n",
        "test_df = pd.read_csv(\"test.csv\")\n",
        "#parse_dates used to specify columns that should be interpreted as dates and times.\n",
        "# It helps by automatically converting the specified columns from strings\n",
        "#(their default representation in a CSV) into pandas `datetime` objects.\n",
        "# This is crucial for time-series analysis\n",
        "#as it allows you to perform date and time based operations\n",
        "#(sorting, filtering, calculating time differences) on those columns efficiently.\n",
        "#Without `parse_dates`, the date column would be read as a string,\n",
        "#making such operations impossible or requiring manual and inefficient string manipulation."
      ],
      "metadata": {
        "id": "oznFFPaAzGi3"
      },
      "execution_count": null,
      "outputs": []
    },
    {
      "cell_type": "code",
      "source": [
        "### Now we will work on Data Visualization on Train Data:\n"
      ],
      "metadata": {
        "id": "sWxAedAABSMq"
      },
      "execution_count": null,
      "outputs": []
    },
    {
      "cell_type": "markdown",
      "source": [
        "### Distribution Of Ratings :"
      ],
      "metadata": {
        "id": "UZV89qeVMHfB"
      }
    },
    {
      "cell_type": "code",
      "source": [
        "fig , ax = plt.subplots()\n",
        "plt.title(\"Distribution of Ratings\")\n",
        "sns.countplot(data=train_df,x='rating')\n",
        "ax.set_ylabel(\"Number of ratings\")\n",
        "ax.set_xlabel(\"Rating\")\n",
        "#"
      ],
      "metadata": {
        "id": "xvE6pchUOSog",
        "colab": {
          "base_uri": "https://localhost:8080/",
          "height": 490
        },
        "outputId": "463c20c7-07c4-4527-daf8-c18b0dea3eee"
      },
      "execution_count": null,
      "outputs": [
        {
          "output_type": "execute_result",
          "data": {
            "text/plain": [
              "Text(0.5, 0, 'Rating')"
            ]
          },
          "metadata": {},
          "execution_count": 11
        },
        {
          "output_type": "display_data",
          "data": {
            "text/plain": [
              "<Figure size 640x480 with 1 Axes>"
            ],
            "image/png": "[encoded data removed]"
          },
          "metadata": {}
        }
      ]
    },
    {
      "cell_type": "code",
      "source": [
        "train_df[\"day_of_week\"] = train_df.date.dt.day_name()\n",
        "train_df.tail()"
      ],
      "metadata": {
        "id": "g0EcoJ0YO1Wa",
        "colab": {
          "base_uri": "https://localhost:8080/",
          "height": 206
        },
        "outputId": "b577319a-e698-4388-d3b8-476795457770"
      },
      "execution_count": null,
      "outputs": [
        {
          "output_type": "execute_result",
          "data": {
            "text/plain": [
              "          movie     user  rating       date day_of_week\n",
              "80384400  12074  2033618       4 2005-08-08      Monday\n",
              "80384401    862  1797061       3 2005-08-08      Monday\n",
              "80384402  10986  1498715       5 2005-08-08      Monday\n",
              "80384403  14861   500016       4 2005-08-08      Monday\n",
              "80384404   5926  1044015       5 2005-08-08      Monday"
            ],
            "text/html": [
              "\n",
              "  <div id=\"df-a21d011a-8f76-4726-b61a-92075d006d51\" class=\"colab-df-container\">\n",
              "    <div>\n",
              "<style scoped>\n",
              "    .dataframe tbody tr th:only-of-type {\n",
              "        vertical-align: middle;\n",
              "    }\n",
              "\n",
              "    .dataframe tbody tr th {\n",
              "        vertical-align: top;\n",
              "    }\n",
              "\n",
              "    .dataframe thead th {\n",
              "        text-align: right;\n",
              "    }\n",
              "</style>\n",
              "<table border=\"1\" class=\"dataframe\">\n",
              "  <thead>\n",
              "    <tr style=\"text-align: right;\">\n",
              "      <th></th>\n",
              "      <th>movie</th>\n",
              "      <th>user</th>\n",
              "      <th>rating</th>\n",
              "      <th>date</th>\n",
              "      <th>day_of_week</th>\n",
              "    </tr>\n",
              "  </thead>\n",
              "  <tbody>\n",
              "    <tr>\n",
              "      <th>80384400</th>\n",
              "      <td>12074</td>\n",
              "      <td>2033618</td>\n",
              "      <td>4</td>\n",
              "      <td>2005-08-08</td>\n",
              "      <td>Monday</td>\n",
              "    </tr>\n",
              "    <tr>\n",
              "      <th>80384401</th>\n",
              "      <td>862</td>\n",
              "      <td>1797061</td>\n",
              "      <td>3</td>\n",
              "      <td>2005-08-08</td>\n",
              "      <td>Monday</td>\n",
              "    </tr>\n",
              "    <tr>\n",
              "      <th>80384402</th>\n",
              "      <td>10986</td>\n",
              "      <td>1498715</td>\n",
              "      <td>5</td>\n",
              "      <td>2005-08-08</td>\n",
              "      <td>Monday</td>\n",
              "    </tr>\n",
              "    <tr>\n",
              "      <th>80384403</th>\n",
              "      <td>14861</td>\n",
              "      <td>500016</td>\n",
              "      <td>4</td>\n",
              "      <td>2005-08-08</td>\n",
              "      <td>Monday</td>\n",
              "    </tr>\n",
              "    <tr>\n",
              "      <th>80384404</th>\n",
              "      <td>5926</td>\n",
              "      <td>1044015</td>\n",
              "      <td>5</td>\n",
              "      <td>2005-08-08</td>\n",
              "      <td>Monday</td>\n",
              "    </tr>\n",
              "  </tbody>\n",
              "</table>\n",
              "</div>\n",
              "    <div class=\"colab-df-buttons\">\n",
              "\n",
              "  <div class=\"colab-df-container\">\n",
              "    <button class=\"colab-df-convert\" onclick=\"convertToInteractive('df-a21d011a-8f76-4726-b61a-92075d006d51')\"\n",
              "            title=\"Convert this dataframe to an interactive table.\"\n",
              "            style=\"display:none;\">\n",
              "\n",
              "  <svg xmlns=\"http://www.w3.org/2000/svg\" height=\"24px\" viewBox=\"0 -960 960 960\">\n",
              "    <path d=\"M120-120v-720h720v720H120Zm60-500h600v-160H180v160Zm220 220h160v-160H400v160Zm0 220h160v-160H400v160ZM180-400h160v-160H180v160Zm440 0h160v-160H620v160ZM180-180h160v-160H180v160Zm440 0h160v-160H620v160Z\"/>\n",
              "  </svg>\n",
              "    </button>\n",
              "\n",
              "  <style>\n",
              "    .colab-df-container {\n",
              "      display:flex;\n",
              "      gap: 12px;\n",
              "    }\n",
              "\n",
              "    .colab-df-convert {\n",
              "      background-color: #E8F0FE;\n",
              "      border: none;\n",
              "      border-radius: 50%;\n",
              "      cursor: pointer;\n",
              "      display: none;\n",
              "      fill: #1967D2;\n",
              "      height: 32px;\n",
              "      padding: 0 0 0 0;\n",
              "      width: 32px;\n",
              "    }\n",
              "\n",
              "    .colab-df-convert:hover {\n",
              "      background-color: #E2EBFA;\n",
              "      box-shadow: 0px 1px 2px rgba(60, 64, 67, 0.3), 0px 1px 3px 1px rgba(60, 64, 67, 0.15);\n",
              "      fill: #174EA6;\n",
              "    }\n",
              "\n",
              "    .colab-df-buttons div {\n",
              "      margin-bottom: 4px;\n",
              "    }\n",
              "\n",
              "    [theme=dark] .colab-df-convert {\n",
              "      background-color: #3B4455;\n",
              "      fill: #D2E3FC;\n",
              "    }\n",
              "\n",
              "    [theme=dark] .colab-df-convert:hover {\n",
              "      background-color: #434B5C;\n",
              "      box-shadow: 0px 1px 3px 1px rgba(0, 0, 0, 0.15);\n",
              "      filter: drop-shadow(0px 1px 2px rgba(0, 0, 0, 0.3));\n",
              "      fill: #FFFFFF;\n",
              "    }\n",
              "  </style>\n",
              "\n",
              "    <script>\n",
              "      const buttonEl =\n",
              "        document.querySelector('#df-a21d011a-8f76-4726-b61a-92075d006d51 button.colab-df-convert');\n",
              "      buttonEl.style.display =\n",
              "        google.colab.kernel.accessAllowed ? 'block' : 'none';\n",
              "\n",
              "      async function convertToInteractive(key) {\n",
              "        const element = document.querySelector('#df-a21d011a-8f76-4726-b61a-92075d006d51');\n",
              "        const dataTable =\n",
              "          await google.colab.kernel.invokeFunction('convertToInteractive',\n",
              "                                                    [key], {});\n",
              "        if (!dataTable) return;\n",
              "\n",
              "        const docLinkHtml = 'Like what you see? Visit the ' +\n",
              "          '<a target=\"_blank\" href=https://colab.research.google.com/notebooks/data_table.ipynb>data table notebook</a>'\n",
              "          + ' to learn more about interactive tables.';\n",
              "        element.innerHTML = '';\n",
              "        dataTable['output_type'] = 'display_data';\n",
              "        await google.colab.output.renderOutput(dataTable, element);\n",
              "        const docLink = document.createElement('div');\n",
              "        docLink.innerHTML = docLinkHtml;\n",
              "        element.appendChild(docLink);\n",
              "      }\n",
              "    </script>\n",
              "  </div>\n",
              "\n",
              "\n",
              "<div id=\"df-f17e1a46-578c-47eb-820d-88cc2a9e4300\">\n",
              "  <button class=\"colab-df-quickchart\" onclick=\"quickchart('df-f17e1a46-578c-47eb-820d-88cc2a9e4300')\"\n",
              "            title=\"Suggest charts\"\n",
              "            style=\"display:none;\">\n",
              "\n",
              "<svg xmlns=\"http://www.w3.org/2000/svg\" height=\"24px\"viewBox=\"0 0 24 24\"\n",
              "     width=\"24px\">\n",
              "    <g>\n",
              "        <path d=\"M19 3H5c-1.1 0-2 .9-2 2v14c0 1.1.9 2 2 2h14c1.1 0 2-.9 2-2V5c0-1.1-.9-2-2-2zM9 17H7v-7h2v7zm4 0h-2V7h2v10zm4 0h-2v-4h2v4z\"/>\n",
              "    </g>\n",
              "</svg>\n",
              "  </button>\n",
              "\n",
              "<style>\n",
              "  .colab-df-quickchart {\n",
              "      --bg-color: #E8F0FE;\n",
              "      --fill-color: #1967D2;\n",
              "      --hover-bg-color: #E2EBFA;\n",
              "      --hover-fill-color: #174EA6;\n",
              "      --disabled-fill-color: #AAA;\n",
              "      --disabled-bg-color: #DDD;\n",
              "  }\n",
              "\n",
              "  [theme=dark] .colab-df-quickchart {\n",
              "      --bg-color: #3B4455;\n",
              "      --fill-color: #D2E3FC;\n",
              "      --hover-bg-color: #434B5C;\n",
              "      --hover-fill-color: #FFFFFF;\n",
              "      --disabled-bg-color: #3B4455;\n",
              "      --disabled-fill-color: #666;\n",
              "  }\n",
              "\n",
              "  .colab-df-quickchart {\n",
              "    background-color: var(--bg-color);\n",
              "    border: none;\n",
              "    border-radius: 50%;\n",
              "    cursor: pointer;\n",
              "    display: none;\n",
              "    fill: var(--fill-color);\n",
              "    height: 32px;\n",
              "    padding: 0;\n",
              "    width: 32px;\n",
              "  }\n",
              "\n",
              "  .colab-df-quickchart:hover {\n",
              "    background-color: var(--hover-bg-color);\n",
              "    box-shadow: 0 1px 2px rgba(60, 64, 67, 0.3), 0 1px 3px 1px rgba(60, 64, 67, 0.15);\n",
              "    fill: var(--button-hover-fill-color);\n",
              "  }\n",
              "\n",
              "  .colab-df-quickchart-complete:disabled,\n",
              "  .colab-df-quickchart-complete:disabled:hover {\n",
              "    background-color: var(--disabled-bg-color);\n",
              "    fill: var(--disabled-fill-color);\n",
              "    box-shadow: none;\n",
              "  }\n",
              "\n",
              "  .colab-df-spinner {\n",
              "    border: 2px solid var(--fill-color);\n",
              "    border-color: transparent;\n",
              "    border-bottom-color: var(--fill-color);\n",
              "    animation:\n",
              "      spin 1s steps(1) infinite;\n",
              "  }\n",
              "\n",
              "  @keyframes spin {\n",
              "    0% {\n",
              "      border-color: transparent;\n",
              "      border-bottom-color: var(--fill-color);\n",
              "      border-left-color: var(--fill-color);\n",
              "    }\n",
              "    20% {\n",
              "      border-color: transparent;\n",
              "      border-left-color: var(--fill-color);\n",
              "      border-top-color: var(--fill-color);\n",
              "    }\n",
              "    30% {\n",
              "      border-color: transparent;\n",
              "      border-left-color: var(--fill-color);\n",
              "      border-top-color: var(--fill-color);\n",
              "      border-right-color: var(--fill-color);\n",
              "    }\n",
              "    40% {\n",
              "      border-color: transparent;\n",
              "      border-right-color: var(--fill-color);\n",
              "      border-top-color: var(--fill-color);\n",
              "    }\n",
              "    60% {\n",
              "      border-color: transparent;\n",
              "      border-right-color: var(--fill-color);\n",
              "    }\n",
              "    80% {\n",
              "      border-color: transparent;\n",
              "      border-right-color: var(--fill-color);\n",
              "      border-bottom-color: var(--fill-color);\n",
              "    }\n",
              "    90% {\n",
              "      border-color: transparent;\n",
              "      border-bottom-color: var(--fill-color);\n",
              "    }\n",
              "  }\n",
              "</style>\n",
              "\n",
              "  <script>\n",
              "    async function quickchart(key) {\n",
              "      const quickchartButtonEl =\n",
              "        document.querySelector('#' + key + ' button');\n",
              "      quickchartButtonEl.disabled = true;  // To prevent multiple clicks.\n",
              "      quickchartButtonEl.classList.add('colab-df-spinner');\n",
              "      try {\n",
              "        const charts = await google.colab.kernel.invokeFunction(\n",
              "            'suggestCharts', [key], {});\n",
              "      } catch (error) {\n",
              "        console.error('Error during call to suggestCharts:', error);\n",
              "      }\n",
              "      quickchartButtonEl.classList.remove('colab-df-spinner');\n",
              "      quickchartButtonEl.classList.add('colab-df-quickchart-complete');\n",
              "    }\n",
              "    (() => {\n",
              "      let quickchartButtonEl =\n",
              "        document.querySelector('#df-f17e1a46-578c-47eb-820d-88cc2a9e4300 button');\n",
              "      quickchartButtonEl.style.display =\n",
              "        google.colab.kernel.accessAllowed ? 'block' : 'none';\n",
              "    })();\n",
              "  </script>\n",
              "</div>\n",
              "\n",
              "    </div>\n",
              "  </div>\n"
            ],
            "application/vnd.google.colaboratory.intrinsic+json": {
              "type": "dataframe",
              "summary": "{\n  \"name\": \"train_df\",\n  \"rows\": 5,\n  \"fields\": [\n    {\n      \"column\": \"movie\",\n      \"properties\": {\n        \"dtype\": \"number\",\n        \"std\": 5554,\n        \"min\": 862,\n        \"max\": 14861,\n        \"num_unique_values\": 5,\n        \"samples\": [\n          862,\n          5926,\n          10986\n        ],\n        \"semantic_type\": \"\",\n        \"description\": \"\"\n      }\n    },\n    {\n      \"column\": \"user\",\n      \"properties\": {\n        \"dtype\": \"number\",\n        \"std\": 612855,\n        \"min\": 500016,\n        \"max\": 2033618,\n        \"num_unique_values\": 5,\n        \"samples\": [\n          1797061,\n          1044015,\n          1498715\n        ],\n        \"semantic_type\": \"\",\n        \"description\": \"\"\n      }\n    },\n    {\n      \"column\": \"rating\",\n      \"properties\": {\n        \"dtype\": \"number\",\n        \"std\": 0,\n        \"min\": 3,\n        \"max\": 5,\n        \"num_unique_values\": 3,\n        \"samples\": [\n          4,\n          3,\n          5\n        ],\n        \"semantic_type\": \"\",\n        \"description\": \"\"\n      }\n    },\n    {\n      \"column\": \"date\",\n      \"properties\": {\n        \"dtype\": \"date\",\n        \"min\": \"2005-08-08 00:00:00\",\n        \"max\": \"2005-08-08 00:00:00\",\n        \"num_unique_values\": 1,\n        \"samples\": [\n          \"2005-08-08 00:00:00\"\n        ],\n        \"semantic_type\": \"\",\n        \"description\": \"\"\n      }\n    },\n    {\n      \"column\": \"day_of_week\",\n      \"properties\": {\n        \"dtype\": \"category\",\n        \"num_unique_values\": 1,\n        \"samples\": [\n          \"Monday\"\n        ],\n        \"semantic_type\": \"\",\n        \"description\": \"\"\n      }\n    }\n  ]\n}"
            }
          },
          "metadata": {},
          "execution_count": 12
        }
      ]
    },
    {
      "cell_type": "code",
      "source": [
        "# Number of Rating per month\n",
        "ax = train_df.resample('m', on = 'date')[\"rating\"].count().plot()\n",
        "ax.set_title(\"Number of Ratings per Month\")\n",
        "ax.set_ylabel(\"Number of Ratings\")\n",
        "ax.set_xlabel(\"Month\")\n",
        "plt.grid()\n",
        "plt.show()"
      ],
      "metadata": {
        "id": "JTE8qg2fZAI1",
        "colab": {
          "base_uri": "https://localhost:8080/",
          "height": 528
        },
        "outputId": "1cc87955-141c-44ed-eeb4-aaca4032f4ab"
      },
      "execution_count": null,
      "outputs": [
        {
          "output_type": "stream",
          "name": "stderr",
          "text": [
            "<ipython-input-13-742199b1403d>:2: FutureWarning: 'm' is deprecated and will be removed in a future version, please use 'ME' instead.\n",
            "  ax = train_df.resample('m', on = 'date')[\"rating\"].count().plot()\n"
          ]
        },
        {
          "output_type": "display_data",
          "data": {
            "text/plain": [
              "<Figure size 640x480 with 1 Axes>"
            ],
            "image/png": "[encoded data removed]"
          },
          "metadata": {}
        }
      ]
    },
    {
      "cell_type": "markdown",
      "source": [
        "### Analysis on the Rating given by user"
      ],
      "metadata": {
        "id": "FJ2xfAJ5dGSK"
      }
    },
    {
      "cell_type": "code",
      "source": [
        "no_of_rated_movies_per_user = train_df.groupby(by='user')['rating'].count()\n",
        "no_of_rated_movies_per_user.tail()"
      ],
      "metadata": {
        "id": "q0WK9okSbTZ-",
        "colab": {
          "base_uri": "https://localhost:8080/",
          "height": 272
        },
        "outputId": "c15f279d-44c1-4ceb-c954-85e87e1f8679"
      },
      "execution_count": null,
      "outputs": [
        {
          "output_type": "execute_result",
          "data": {
            "text/plain": [
              "user\n",
              "2649404     13\n",
              "2649409     40\n",
              "2649421     24\n",
              "2649426    254\n",
              "2649429    236\n",
              "Name: rating, dtype: int64"
            ],
            "text/html": [
              "<div>\n",
              "<style scoped>\n",
              "    .dataframe tbody tr th:only-of-type {\n",
              "        vertical-align: middle;\n",
              "    }\n",
              "\n",
              "    .dataframe tbody tr th {\n",
              "        vertical-align: top;\n",
              "    }\n",
              "\n",
              "    .dataframe thead th {\n",
              "        text-align: right;\n",
              "    }\n",
              "</style>\n",
              "<table border=\"1\" class=\"dataframe\">\n",
              "  <thead>\n",
              "    <tr style=\"text-align: right;\">\n",
              "      <th></th>\n",
              "      <th>rating</th>\n",
              "    </tr>\n",
              "    <tr>\n",
              "      <th>user</th>\n",
              "      <th></th>\n",
              "    </tr>\n",
              "  </thead>\n",
              "  <tbody>\n",
              "    <tr>\n",
              "      <th>2649404</th>\n",
              "      <td>13</td>\n",
              "    </tr>\n",
              "    <tr>\n",
              "      <th>2649409</th>\n",
              "      <td>40</td>\n",
              "    </tr>\n",
              "    <tr>\n",
              "      <th>2649421</th>\n",
              "      <td>24</td>\n",
              "    </tr>\n",
              "    <tr>\n",
              "      <th>2649426</th>\n",
              "      <td>254</td>\n",
              "    </tr>\n",
              "    <tr>\n",
              "      <th>2649429</th>\n",
              "      <td>236</td>\n",
              "    </tr>\n",
              "  </tbody>\n",
              "</table>\n",
              "</div><br><label><b>dtype:</b> int64</label>"
            ]
          },
          "metadata": {},
          "execution_count": 14
        }
      ]
    },
    {
      "cell_type": "code",
      "source": [
        "no_of_rated_movies_per_user.max()\n",
        "# absurdly large buy someone"
      ],
      "metadata": {
        "id": "DgQAaT6teCr_",
        "colab": {
          "base_uri": "https://localhost:8080/"
        },
        "outputId": "b13e47f7-78cf-4e28-cd66-5302f1a2c2c4"
      },
      "execution_count": null,
      "outputs": [
        {
          "output_type": "execute_result",
          "data": {
            "text/plain": [
              "np.int64(17112)"
            ]
          },
          "metadata": {},
          "execution_count": 15
        }
      ]
    },
    {
      "cell_type": "code",
      "source": [
        "fig = plt.figure(figsize=plt.figaspect(.5))\n",
        "ax1 = fig.add_subplot(1,2,1)\n",
        "sns.kdeplot(no_of_rated_movies_per_user, shade = True, cumulative =True, ax= ax1)\n",
        "plt.xlabel(\"No of rating by user\")\n",
        "plt.title(\"CDP\")\n",
        "ax2 = fig.add_subplot(1,2,2)\n",
        "sns.kdeplot(no_of_rated_movies_per_user, shade = True, cumulative =False, ax= ax2)\n",
        "plt.xlabel(\"No of rating by user\")\n",
        "plt.title(\"PDF\")"
      ],
      "metadata": {
        "id": "_wIM1jCyeu5d",
        "colab": {
          "base_uri": "https://localhost:8080/",
          "height": 615
        },
        "outputId": "5c08cbdf-1a5a-48f2-e426-43d5d9197286"
      },
      "execution_count": null,
      "outputs": [
        {
          "output_type": "stream",
          "name": "stderr",
          "text": [
            "<ipython-input-16-1ce339afed3b>:3: FutureWarning: \n",
            "\n",
            "`shade` is now deprecated in favor of `fill`; setting `fill=True`.\n",
            "This will become an error in seaborn v0.14.0; please update your code.\n",
            "\n",
            "  sns.kdeplot(no_of_rated_movies_per_user, shade = True, cumulative =True, ax= ax1)\n",
            "<ipython-input-16-1ce339afed3b>:7: FutureWarning: \n",
            "\n",
            "`shade` is now deprecated in favor of `fill`; setting `fill=True`.\n",
            "This will become an error in seaborn v0.14.0; please update your code.\n",
            "\n",
            "  sns.kdeplot(no_of_rated_movies_per_user, shade = True, cumulative =False, ax= ax2)\n"
          ]
        },
        {
          "output_type": "execute_result",
          "data": {
            "text/plain": [
              "Text(0.5, 1.0, 'PDF')"
            ]
          },
          "metadata": {},
          "execution_count": 16
        },
        {
          "output_type": "display_data",
          "data": {
            "text/plain": [
              "<Figure size 960x480 with 2 Axes>"
            ],
            "image/png": "[encoded data removed]"
          },
          "metadata": {}
        }
      ]
    },
    {
      "cell_type": "code",
      "source": [
        "no_of_rated_movies_per_user.describe()"
      ],
      "metadata": {
        "id": "AtCqSgeQghhM",
        "colab": {
          "base_uri": "https://localhost:8080/",
          "height": 335
        },
        "outputId": "122d5b17-f5b8-4c39-b78e-95e61e8b2c38"
      },
      "execution_count": null,
      "outputs": [
        {
          "output_type": "execute_result",
          "data": {
            "text/plain": [
              "count    405041.000000\n",
              "mean        198.459921\n",
              "std         290.793238\n",
              "min           1.000000\n",
              "25%          34.000000\n",
              "50%          89.000000\n",
              "75%         245.000000\n",
              "max       17112.000000\n",
              "Name: rating, dtype: float64"
            ],
            "text/html": [
              "<div>\n",
              "<style scoped>\n",
              "    .dataframe tbody tr th:only-of-type {\n",
              "        vertical-align: middle;\n",
              "    }\n",
              "\n",
              "    .dataframe tbody tr th {\n",
              "        vertical-align: top;\n",
              "    }\n",
              "\n",
              "    .dataframe thead th {\n",
              "        text-align: right;\n",
              "    }\n",
              "</style>\n",
              "<table border=\"1\" class=\"dataframe\">\n",
              "  <thead>\n",
              "    <tr style=\"text-align: right;\">\n",
              "      <th></th>\n",
              "      <th>rating</th>\n",
              "    </tr>\n",
              "  </thead>\n",
              "  <tbody>\n",
              "    <tr>\n",
              "      <th>count</th>\n",
              "      <td>405041.000000</td>\n",
              "    </tr>\n",
              "    <tr>\n",
              "      <th>mean</th>\n",
              "      <td>198.459921</td>\n",
              "    </tr>\n",
              "    <tr>\n",
              "      <th>std</th>\n",
              "      <td>290.793238</td>\n",
              "    </tr>\n",
              "    <tr>\n",
              "      <th>min</th>\n",
              "      <td>1.000000</td>\n",
              "    </tr>\n",
              "    <tr>\n",
              "      <th>25%</th>\n",
              "      <td>34.000000</td>\n",
              "    </tr>\n",
              "    <tr>\n",
              "      <th>50%</th>\n",
              "      <td>89.000000</td>\n",
              "    </tr>\n",
              "    <tr>\n",
              "      <th>75%</th>\n",
              "      <td>245.000000</td>\n",
              "    </tr>\n",
              "    <tr>\n",
              "      <th>max</th>\n",
              "      <td>17112.000000</td>\n",
              "    </tr>\n",
              "  </tbody>\n",
              "</table>\n",
              "</div><br><label><b>dtype:</b> float64</label>"
            ]
          },
          "metadata": {},
          "execution_count": 17
        }
      ]
    },
    {
      "cell_type": "code",
      "source": [
        "quantiles = no_of_rated_movies_per_user.quantile(np.arange(0, 1.01, 0.01), )\n",
        "quantiles"
      ],
      "metadata": {
        "id": "NTAOvvXUhc_y",
        "colab": {
          "base_uri": "https://localhost:8080/",
          "height": 458
        },
        "outputId": "9bc8a016-aa8e-4b79-fab4-8993a38eb56b"
      },
      "execution_count": null,
      "outputs": [
        {
          "output_type": "execute_result",
          "data": {
            "text/plain": [
              "0.00        1.0\n",
              "0.01        1.0\n",
              "0.02        2.0\n",
              "0.03        4.0\n",
              "0.04        5.0\n",
              "         ...   \n",
              "0.96      829.0\n",
              "0.97      934.0\n",
              "0.98     1079.0\n",
              "0.99     1341.0\n",
              "1.00    17112.0\n",
              "Name: rating, Length: 101, dtype: float64"
            ],
            "text/html": [
              "<div>\n",
              "<style scoped>\n",
              "    .dataframe tbody tr th:only-of-type {\n",
              "        vertical-align: middle;\n",
              "    }\n",
              "\n",
              "    .dataframe tbody tr th {\n",
              "        vertical-align: top;\n",
              "    }\n",
              "\n",
              "    .dataframe thead th {\n",
              "        text-align: right;\n",
              "    }\n",
              "</style>\n",
              "<table border=\"1\" class=\"dataframe\">\n",
              "  <thead>\n",
              "    <tr style=\"text-align: right;\">\n",
              "      <th></th>\n",
              "      <th>rating</th>\n",
              "    </tr>\n",
              "  </thead>\n",
              "  <tbody>\n",
              "    <tr>\n",
              "      <th>0.00</th>\n",
              "      <td>1.0</td>\n",
              "    </tr>\n",
              "    <tr>\n",
              "      <th>0.01</th>\n",
              "      <td>1.0</td>\n",
              "    </tr>\n",
              "    <tr>\n",
              "      <th>0.02</th>\n",
              "      <td>2.0</td>\n",
              "    </tr>\n",
              "    <tr>\n",
              "      <th>0.03</th>\n",
              "      <td>4.0</td>\n",
              "    </tr>\n",
              "    <tr>\n",
              "      <th>0.04</th>\n",
              "      <td>5.0</td>\n",
              "    </tr>\n",
              "    <tr>\n",
              "      <th>...</th>\n",
              "      <td>...</td>\n",
              "    </tr>\n",
              "    <tr>\n",
              "      <th>0.96</th>\n",
              "      <td>829.0</td>\n",
              "    </tr>\n",
              "    <tr>\n",
              "      <th>0.97</th>\n",
              "      <td>934.0</td>\n",
              "    </tr>\n",
              "    <tr>\n",
              "      <th>0.98</th>\n",
              "      <td>1079.0</td>\n",
              "    </tr>\n",
              "    <tr>\n",
              "      <th>0.99</th>\n",
              "      <td>1341.0</td>\n",
              "    </tr>\n",
              "    <tr>\n",
              "      <th>1.00</th>\n",
              "      <td>17112.0</td>\n",
              "    </tr>\n",
              "  </tbody>\n",
              "</table>\n",
              "<p>101 rows × 1 columns</p>\n",
              "</div><br><label><b>dtype:</b> float64</label>"
            ]
          },
          "metadata": {},
          "execution_count": 18
        }
      ]
    },
    {
      "cell_type": "code",
      "source": [
        "plt.title(\"Quantiles and their Values\")\n",
        "quantiles.plot()\n",
        "#quantiles with difference of 0.05\n",
        "plt.scatter(x=quantiles.index[::5], y=quantiles.values[::5], c= \"orange\")\n",
        "# quantiles with difference of 0.25\n",
        "plt.scatter(x=quantiles.index[::25], y=quantiles.values[::25], c= \"m\")\n",
        "\n",
        "# annotate 25th, 50th, 75th and 100th percentile values..\n",
        "for x, y in zip(quantiles.index[::25], quantiles[::25]):\n",
        "  plt.annotate(text= \"({}, {})\".format(x,y), xy=(x,y), xytext=(x-0.05, y+500), fontweight=\"bold\")\n",
        "plt.show()\n"
      ],
      "metadata": {
        "id": "iktpat1MihVJ",
        "colab": {
          "base_uri": "https://localhost:8080/",
          "height": 448
        },
        "outputId": "221a2f03-48d2-44ad-ed46-d62820cc205f"
      },
      "execution_count": null,
      "outputs": [
        {
          "output_type": "display_data",
          "data": {
            "text/plain": [
              "<Figure size 640x480 with 1 Axes>"
            ],
            "image/png": "[encoded data removed]"
          },
          "metadata": {}
        }
      ]
    },
    {
      "cell_type": "code",
      "source": [
        "start = datetime.now()\n",
        "fig = plt.figure(figsize=plt.figaspect(.45))\n",
        "sns.boxplot(y='rating', x= 'day_of_week', data= train_df)\n",
        "plt.show()\n",
        "print(\"Time taken:\", datetime.now() - start)"
      ],
      "metadata": {
        "id": "q23YpdAcVinV",
        "colab": {
          "base_uri": "https://localhost:8080/",
          "height": 338
        },
        "outputId": "44c8290c-efec-4a36-94e7-1870ca2ac88a"
      },
      "execution_count": null,
      "outputs": [
        {
          "output_type": "display_data",
          "data": {
            "text/plain": [
              "<Figure size 1066.67x480 with 1 Axes>"
            ],
            "image/png": "[encoded data removed]"
          },
          "metadata": {}
        },
        {
          "output_type": "stream",
          "name": "stdout",
          "text": [
            "Time taken: 0:02:29.965191\n"
          ]
        }
      ]
    },
    {
      "cell_type": "code",
      "source": [
        "# Number of ratings on each day of the Week\n",
        "fig, ax = plt.subplots()\n",
        "sns.countplot(x=\"day_of_week\", data=train_df, ax = ax)\n",
        "plt.title(\"Number of ratings on each day of the Week\")\n",
        "plt.ylabel(\"Number of ratings\")\n",
        "plt.xlabel(\"Day of the Week\")\n",
        "ax.set_xticklabels(ax.get_xticklabels(), rotation=45)\n",
        "plt.show()\n"
      ],
      "metadata": {
        "id": "48VpQxfePbGA",
        "colab": {
          "base_uri": "https://localhost:8080/",
          "height": 581
        },
        "outputId": "cdfa26ad-9cb5-494a-e85f-1ecb290d00f0"
      },
      "execution_count": null,
      "outputs": [
        {
          "output_type": "stream",
          "name": "stderr",
          "text": [
            "<ipython-input-21-dfc68fae68b9>:7: UserWarning: set_ticklabels() should only be used with a fixed number of ticks, i.e. after set_ticks() or using a FixedLocator.\n",
            "  ax.set_xticklabels(ax.get_xticklabels(), rotation=45)\n"
          ]
        },
        {
          "output_type": "display_data",
          "data": {
            "text/plain": [
              "<Figure size 640x480 with 1 Axes>"
            ],
            "image/png": "[encoded data removed]"
          },
          "metadata": {}
        }
      ]
    },
    {
      "cell_type": "markdown",
      "source": [
        "# Some important Points\n",
        "- We can discard our date time column from our training data , becuase it was just needed it for the splitting the train and test data\n",
        "- and each user did not rated every movie, the matirx we get for our each user is very sparse"
      ],
      "metadata": {
        "id": "8RIJA4u1Wtkz"
      }
    },
    {
      "cell_type": "markdown",
      "source": [
        "### Creating sparse matrix form data source\n",
        "sparsity is 99% means 99 % dentries has null values\n",
        "- we should use scipy"
      ],
      "metadata": {
        "id": "mx_VM2kMXI4l"
      }
    },
    {
      "cell_type": "code",
      "source": [
        "start = datetime.now()\n",
        "from scipy.sparse import csr_matrix"
      ],
      "metadata": {
        "id": "QLoC3HNjpbD1"
      },
      "execution_count": null,
      "outputs": []
    },
    {
      "cell_type": "code",
      "source": [
        "sparse_df['user'] = sparse_df['user'].astype('category')\n",
        "sparse_df['movie'] = sparse_df['movie'].astype('category')"
      ],
      "metadata": {
        "id": "LjMlJkL7pmK7"
      },
      "execution_count": null,
      "outputs": []
    },
    {
      "cell_type": "code",
      "source": [
        "row = sparse_df['user'].cat.codes\n",
        "col = sparse_df['movie'].cat.codes\n",
        "data = sparse_df['rating']\n"
      ],
      "metadata": {
        "id": "4_z3PKjPpn_K"
      },
      "execution_count": null,
      "outputs": []
    },
    {
      "cell_type": "code",
      "source": [
        "sparse_matrix = csr_matrix((data, (row, col)))"
      ],
      "metadata": {
        "id": "KT9DeUr7pqlK"
      },
      "execution_count": null,
      "outputs": []
    },
    {
      "cell_type": "markdown",
      "source": [
        "### Calculating sparsity of Train data"
      ],
      "metadata": {
        "id": "OyRvngx9ZcOS"
      }
    },
    {
      "cell_type": "code",
      "source": [
        "sparse_matrix.shape\n"
      ],
      "metadata": {
        "id": "0c4S9w30ZUix",
        "colab": {
          "base_uri": "https://localhost:8080/"
        },
        "outputId": "fbc5dbb0-06f3-4da3-f854-882d66398374"
      },
      "execution_count": null,
      "outputs": [
        {
          "output_type": "execute_result",
          "data": {
            "text/plain": [
              "(405041, 17424)"
            ]
          },
          "metadata": {},
          "execution_count": 23
        }
      ]
    },
    {
      "cell_type": "code",
      "source": [
        "sparse_matrix.count_nonzero()\n"
      ],
      "metadata": {
        "id": "i5vEe9voZnbu",
        "colab": {
          "base_uri": "https://localhost:8080/"
        },
        "outputId": "fb46eb23-ddd3-4057-d615-95c6847af08f"
      },
      "execution_count": null,
      "outputs": [
        {
          "output_type": "execute_result",
          "data": {
            "text/plain": [
              "80384405"
            ]
          },
          "metadata": {},
          "execution_count": 24
        }
      ]
    },
    {
      "cell_type": "code",
      "source": [
        "#Calculating sparsity of Train data\n",
        "sparsity = 1 - (sparse_matrix.count_nonzero() / (sparse_matrix.shape[0] * sparse_matrix.shape[1]))\n",
        "\n",
        "print(\"Sparsity of training matrix: {:.2%}\".format(sparsity))\n"
      ],
      "metadata": {
        "id": "UETSKTd2a04Z",
        "colab": {
          "base_uri": "https://localhost:8080/"
        },
        "outputId": "a2250eeb-c6f7-4ea2-ace4-620f3c3dfddc"
      },
      "execution_count": null,
      "outputs": [
        {
          "output_type": "stream",
          "name": "stdout",
          "text": [
            "Sparsity of training matrix: 98.86%\n"
          ]
        }
      ]
    },
    {
      "cell_type": "code",
      "source": [
        "# Create a new DataFrame with only the columns needed for creating the sparse matrix\n",
        "sparse_test_df = test_df[['user', 'movie', 'rating']].copy()\n",
        "\n",
        "# Ensure 'user' and 'movie' are categorical for proper indexing\n",
        "sparse_test_df['user'] = sparse_test_df['user'].astype('category')\n",
        "sparse_test_df['movie'] = sparse_test_df['movie'].astype('category')\n",
        "\n",
        "# Create row, column, and data lists for the sparse matrix\n",
        "row = sparse_test_df['user'].cat.codes\n",
        "col = sparse_test_df['movie'].cat.codes\n",
        "data = sparse_test_df['rating']\n",
        "\n",
        "# Create the sparse matrix\n",
        "test_sparse_matrix = csr_matrix((data, (row, col)))\n",
        "\n",
        "\n"
      ],
      "metadata": {
        "id": "2wRE4-lobJ_S"
      },
      "execution_count": null,
      "outputs": []
    },
    {
      "cell_type": "code",
      "source": [
        "# test sparsity of the matrix\n",
        "test_sparsity = 1 - (test_sparse_matrix.count_nonzero() / (test_sparse_matrix.shape[0] * test_sparse_matrix.shape[1]))\n",
        "print(\"Sparsity of test matrix: {:.2%}\".format(test_sparsity))"
      ],
      "metadata": {
        "colab": {
          "base_uri": "https://localhost:8080/"
        },
        "id": "oUpGHA7hfhZ0",
        "outputId": "7d35124a-7034-46f9-cd4d-7a1d94b19580"
      },
      "execution_count": null,
      "outputs": [
        {
          "output_type": "stream",
          "name": "stdout",
          "text": [
            "Sparsity of test matrix: 99.68%\n"
          ]
        }
      ]
    },
    {
      "cell_type": "code",
      "source": [
        "sparsity = 1 - (test_sparse_matrix.count_nonzero() / (test_sparse_matrix.shape[0] * test_sparse_matrix.shape[1]))\n",
        "print(\"Sparsity of test matrix: {:.2%}\".format(sparsity))\n"
      ],
      "metadata": {
        "id": "jtyXYfC6buT1",
        "colab": {
          "base_uri": "https://localhost:8080/"
        },
        "outputId": "cd1445f2-22cf-4a0a-e2b0-aba075a943ec"
      },
      "execution_count": null,
      "outputs": [
        {
          "output_type": "stream",
          "name": "stdout",
          "text": [
            "Sparsity of test matrix: 99.68%\n"
          ]
        }
      ]
    },
    {
      "cell_type": "markdown",
      "source": [
        "#### Finding Global Average of all Movie ratings, Average rating per user  and Average rating per movie\n",
        "- To understand what is the  nature of user , ie is he rating high or low in general.\n",
        "- Of course getting an Movie average rating also important"
      ],
      "metadata": {
        "id": "2qT6I3jN3QxR"
      }
    },
    {
      "cell_type": "code",
      "source": [
        "# Global average rating\n",
        "global_average_rating = train_df['rating'].mean()\n",
        "print(f\"Global average rating: {global_average_rating:.2f}\")\n",
        "\n",
        "# Average rating by user\n",
        "average_rating_by_user = train_df.groupby('user')['rating'].mean()\n",
        "print(\"Average rating by user:\\n\", average_rating_by_user.head())\n",
        "\n",
        "# Average rating for every movie\n",
        "average_rating_by_movie = train_df.groupby('movie')['rating'].mean()\n",
        "print(\"Average rating for every movie:\\n\", average_rating_by_movie.head())\n"
      ],
      "metadata": {
        "id": "89B6QIfIcDbK",
        "colab": {
          "base_uri": "https://localhost:8080/"
        },
        "outputId": "265ea8ef-e326-4955-f91d-2a12ce0bf241"
      },
      "execution_count": null,
      "outputs": [
        {
          "output_type": "stream",
          "name": "stdout",
          "text": [
            "Global average rating: 3.58\n",
            "Average rating by user:\n",
            " user\n",
            "6     3.516055\n",
            "7     3.992958\n",
            "10    3.378109\n",
            "25    3.500000\n",
            "33    3.787879\n",
            "Name: rating, dtype: float64\n",
            "Average rating for every movie:\n",
            " movie\n",
            "1    3.718987\n",
            "2    3.692308\n",
            "3    3.647418\n",
            "4    2.763359\n",
            "5    4.036817\n",
            "Name: rating, dtype: float64\n"
          ]
        }
      ]
    },
    {
      "cell_type": "code",
      "source": [
        "import matplotlib.pyplot as plt\n",
        "import seaborn as sns\n",
        "# Plot CDF and PDF for user average ratings\n",
        "fig, (ax1, ax2) = plt.subplots(1, 2, figsize=(12, 5))\n",
        "\n",
        "# CDF (Cumulative Distribution Function)\n",
        "sns.kdeplot(average_rating_by_user, cumulative=True, shade=True, color='blue', ax=ax1)\n",
        "ax1.set_title('CDF of User Average Ratings')\n",
        "ax1.set_xlabel('Average User Rating')\n",
        "\n",
        "# PDF (Probability Density Function)\n",
        "sns.kdeplot(average_rating_by_user, shade=True, color='blue', ax=ax2)\n",
        "ax2.set_title('PDF of User Average Ratings')\n",
        "ax2.set_xlabel('Average User Rating')\n",
        "\n",
        "plt.show()\n",
        "\n",
        "# Plot CDF and PDF for movie average ratings\n",
        "fig, (ax1, ax2) = plt.subplots(1, 2, figsize=(12, 5))\n",
        "\n",
        "# CDF\n",
        "sns.kdeplot(average_rating_by_movie, cumulative=True, shade=True, color='orange', ax=ax1)\n",
        "ax1.set_title('CDF of Movie Average Ratings')\n",
        "ax1.set_xlabel('Average Movie Rating')\n",
        "\n",
        "# PDF\n",
        "sns.kdeplot(average_rating_by_movie, shade=True, color='orange', ax=ax2)\n",
        "ax2.set_title('PDF of Movie Average Ratings')\n",
        "ax2.set_xlabel('Average Movie Rating')\n",
        "\n",
        "plt.show()\n"
      ],
      "metadata": {
        "colab": {
          "base_uri": "https://localhost:8080/",
          "height": 1000
        },
        "id": "2VkfQb0o6bki",
        "outputId": "86cbcaf3-e5cc-47b8-d0c7-858ad886dced"
      },
      "execution_count": null,
      "outputs": [
        {
          "output_type": "stream",
          "name": "stderr",
          "text": [
            "<ipython-input-30-285a22cf6b76>:12: FutureWarning: \n",
            "\n",
            "`shade` is now deprecated in favor of `fill`; setting `fill=True`.\n",
            "This will become an error in seaborn v0.14.0; please update your code.\n",
            "\n",
            "  sns.kdeplot(average_rating_by_user, cumulative=True, shade=True, color='blue', ax=ax1)\n",
            "<ipython-input-30-285a22cf6b76>:17: FutureWarning: \n",
            "\n",
            "`shade` is now deprecated in favor of `fill`; setting `fill=True`.\n",
            "This will become an error in seaborn v0.14.0; please update your code.\n",
            "\n",
            "  sns.kdeplot(average_rating_by_user, shade=True, color='blue', ax=ax2)\n"
          ]
        },
        {
          "output_type": "display_data",
          "data": {
            "text/plain": [
              "<Figure size 1200x500 with 2 Axes>"
            ],
            "image/png": "[encoded data removed]"
          },
          "metadata": {}
        },
        {
          "output_type": "stream",
          "name": "stderr",
          "text": [
            "<ipython-input-30-285a22cf6b76>:27: FutureWarning: \n",
            "\n",
            "`shade` is now deprecated in favor of `fill`; setting `fill=True`.\n",
            "This will become an error in seaborn v0.14.0; please update your code.\n",
            "\n",
            "  sns.kdeplot(average_rating_by_movie, cumulative=True, shade=True, color='orange', ax=ax1)\n",
            "<ipython-input-30-285a22cf6b76>:32: FutureWarning: \n",
            "\n",
            "`shade` is now deprecated in favor of `fill`; setting `fill=True`.\n",
            "This will become an error in seaborn v0.14.0; please update your code.\n",
            "\n",
            "  sns.kdeplot(average_rating_by_movie, shade=True, color='orange', ax=ax2)\n"
          ]
        },
        {
          "output_type": "display_data",
          "data": {
            "text/plain": [
              "<Figure size 1200x500 with 2 Axes>"
            ],
            "image/png": "[encoded data removed]"
          },
          "metadata": {}
        }
      ]
    },
    {
      "cell_type": "code",
      "source": [],
      "metadata": {
        "id": "GyUCUYVZFo2-"
      },
      "execution_count": null,
      "outputs": []
    },
    {
      "cell_type": "markdown",
      "source": [
        "### Cold Star Problem\n",
        "- We do not have training data of some movies which are in test because we have splitted the data using the dates and we stored last 20 % data in our testing set."
      ],
      "metadata": {
        "id": "4YlRt8TFD4jB"
      }
    },
    {
      "cell_type": "code",
      "source": [
        "\n",
        "\n",
        "#  users in test data who are not present in train data\n",
        "users_in_test_not_in_train = set(test_df['user'].unique()) - set(train_df['user'].unique())\n",
        "\n",
        "#  number of users who did not appear in the train data\n",
        "num_users_not_in_train = len(users_in_test_not_in_train)\n",
        "\n",
        "# num of users who did not appear in the train data\n",
        "total_users_in_test = test_df['user'].nunique()\n",
        "percentage_users_not_in_train = (num_users_not_in_train / total_users_in_test) * 100\n",
        "\n",
        "print(\"Number of users who did not appear in the train data:\", num_users_not_in_train)\n",
        "print(\"Percentage of users who did not appear in the train data: {:.2f}%\".format(percentage_users_not_in_train))\n"
      ],
      "metadata": {
        "colab": {
          "base_uri": "https://localhost:8080/"
        },
        "id": "vPSgyb2vGlJ1",
        "outputId": "92e1eab4-dd2c-4ebb-c5b2-2e2b7ff45a10"
      },
      "execution_count": null,
      "outputs": [
        {
          "output_type": "stream",
          "name": "stdout",
          "text": [
            "Number of users who did not appear in the train data: 75148\n",
            "Percentage of users who did not appear in the train data: 21.51%\n"
          ]
        }
      ]
    },
    {
      "cell_type": "code",
      "source": [
        "\n",
        "movies_in_test_not_in_train = set(test_df['movie'].unique()) - set(train_df['movie'].unique())\n",
        "\n",
        "# Calculate the number of movies that did not appear in the train data\n",
        "num_movies_not_in_train = len(movies_in_test_not_in_train)\n",
        "\n",
        "# Calculate the percentage of movies that did not appear in the train data\n",
        "total_movies_in_test = test_df['movie'].nunique()\n",
        "percentage_movies_not_in_train = (num_movies_not_in_train / total_movies_in_test) * 100\n",
        "\n",
        "print(\"Number of movies who did not appear in the train data:\", num_movies_not_in_train)\n",
        "print(\"Percentage of movies who did not appear in the train data: {:.2f}%\".format(percentage_movies_not_in_train))\n",
        "\n",
        "\n",
        "\n",
        "# Total number of movies\n",
        "total_movies = len(pd.concat([train_df['movie'], test_df['movie']]).unique())\n",
        "print(\"Total number of movies:\", total_movies)\n",
        "\n",
        "# Total number of movies in train data\n",
        "total_train_movies = train_df['movie'].nunique()\n",
        "print(\"Total number of train movies:\", total_train_movies)\n",
        "\n",
        "# Total number of movies in test data\n",
        "total_test_movies = test_df['movie'].nunique()\n",
        "print(\"Total number of test movies:\", total_test_movies)\n"
      ],
      "metadata": {
        "colab": {
          "base_uri": "https://localhost:8080/"
        },
        "id": "B2W1JKXZIbp_",
        "outputId": "19fb260f-80de-412d-9a51-b645d194997c"
      },
      "execution_count": null,
      "outputs": [
        {
          "output_type": "stream",
          "name": "stdout",
          "text": [
            "Number of movies who did not appear in the train data: 346\n",
            "Percentage of movies who did not appear in the train data: 1.95%\n",
            "Total number of movies: 17770\n",
            "Total number of train movies: 17424\n",
            "Total number of test movies: 17757\n"
          ]
        }
      ]
    },
    {
      "cell_type": "markdown",
      "source": [
        "-  Trying to find similarity Matrix for user with that much data it is going to tricky:\n",
        "- We have to decrease the no. of dimentions using Dimentional Reduction Techniques\n",
        "- But PCA or dimentional reductional is even more tricky or more time consuming than then running the entire 405k*405k similarity matrix, because sparse matrix has so many zero values and our user matirx after PCA will be very dense and will take much more longer time"
      ],
      "metadata": {
        "id": "5wt6pZzEOTrw"
      }
    },
    {
      "cell_type": "markdown",
      "source": [
        "#### So, We need to come up with some another method , which is Run time computation:\n",
        "- We will store user id and its corresponding user and similarty Matrix as a key value pair ( ie nested dictionary)\n",
        "- So for each user id = we use it as a key\n",
        "- and value will be (all other user id and similarity matrix value )\n",
        "ie {k:(k,v)}\n"
      ],
      "metadata": {
        "id": "59XCiQzURBPt"
      }
    },
    {
      "cell_type": "markdown",
      "source": [
        "### Movie Movie Similarity:\n",
        "- Each movie is 405 k dimentions, and user is 17k, so it will be large 405k*17k but it is extremely sparse\n",
        "- S(i, j) = 17k *17k ( as movie similarity)\n",
        "- If user similarity it would be 405k*405k\n",
        "- So, total computation will 17k*17k/2\n",
        "- which will be less"
      ],
      "metadata": {
        "id": "g865lPvbSPRM"
      }
    },
    {
      "cell_type": "code",
      "source": [
        "import pandas as pd\n",
        "from scipy.sparse import csr_matrix\n",
        "from sklearn.metrics.pairwise import cosine_similarity\n",
        "\n",
        "#  pivot table to represent user-movie ratings\n",
        "movie_user_matrix = train_df.pivot_table(index='movie', columns='user', values='rating').fillna(0)\n",
        "\n",
        "# Convert the pivot table to a sparse matrix\n",
        "sparse_movie_user_matrix = csr_matrix(movie_user_matrix.values)\n",
        "\n",
        "# Calculate cosine similarity between movies\n",
        "movie_similarity_matrix = cosine_similarity(sparse_movie_user_matrix)\n",
        "\n",
        "# the similarity matrix to a DataFrame for easier handling\n",
        "movie_similarity_df = pd.DataFrame(movie_similarity_matrix, index=movie_user_matrix.index, columns=movie_user_matrix.index)\n",
        "\n",
        "print(\"Movie Similarity Matrix Created\")\n",
        "\n"
      ],
      "metadata": {
        "colab": {
          "base_uri": "https://localhost:8080/"
        },
        "id": "0aSZ_VrfObsJ",
        "outputId": "7225ff59-64b0-4e8e-e7c4-ac91f37320de"
      },
      "execution_count": null,
      "outputs": [
        {
          "output_type": "stream",
          "name": "stderr",
          "text": [
            "<ipython-input-33-b768dc827e12>:8: PerformanceWarning: The following operation may generate 7057434384 cells in the resulting pandas object.\n",
            "  movie_user_matrix = train_df.pivot_table(index='movie', columns='user', values='rating').fillna(0)\n"
          ]
        },
        {
          "output_type": "stream",
          "name": "stdout",
          "text": [
            "Movie Similarity Matrix Created\n"
          ]
        }
      ]
    },
    {
      "cell_type": "markdown",
      "source": [
        "### SurPRISE - Simple Python Recommendation System Engine"
      ],
      "metadata": {
        "id": "JHnCig4pWbP5"
      }
    },
    {
      "cell_type": "code",
      "source": [
        "#! pip install scikit-surprise"
      ],
      "metadata": {
        "id": "TV-PVVPvWnhJ"
      },
      "execution_count": null,
      "outputs": []
    },
    {
      "cell_type": "code",
      "source": [
        "start= datetime.now()\n"
      ],
      "metadata": {
        "id": "CpJmGhIs5Q1I"
      },
      "execution_count": null,
      "outputs": []
    },
    {
      "cell_type": "code",
      "source": [
        "# Sampling of the Data of train and test data\n",
        "# strategy is like we will be training the small data\n",
        "# set first run all the models\n",
        "# and choose the best model\n",
        "# we can apply that model on the entire dataset"
      ],
      "metadata": {
        "id": "reVytts_W1Bx"
      },
      "execution_count": null,
      "outputs": []
    },
    {
      "cell_type": "code",
      "source": [
        "\n",
        "from scipy.sparse import csr_matrix, save_npz\n",
        "\n",
        "\n",
        "def get_sample_sparse_matrix(sparse_matrix, no_users, no_movies, path):\n",
        "    \"\"\"\n",
        "    Samples a sparse matrix to create a smaller version with a limited number of users and movies.\n",
        "    Saves the sampled matrix to the specified path.\n",
        "\n",
        "    Args:\n",
        "        sparse_matrix (csr_matrix): The original sparse matrix to sample from.\n",
        "        no_users (int): The desired number of users in the sample.\n",
        "        no_movies (int): The desired number of movies in the sample.\n",
        "        path (str): The path to save the sampled sparse matrix as an NPZ file.\n",
        "\n",
        "    Returns:\n",
        "        csr_matrix: The sampled sparse matrix.\n",
        "    \"\"\"\n",
        "    # random user and movie indices for the sample\n",
        "    row_ind = np.random.choice(sparse_matrix.shape[0], size=no_users, replace=False)\n",
        "    col_ind = np.random.choice(sparse_matrix.shape[1], size=no_movies, replace=False)\n",
        "\n",
        "    #  the sampled sparse matrix\n",
        "    sample_sparse_matrix = sparse_matrix[row_ind, :][:, col_ind]\n",
        "\n",
        "    # Save the sampled sparse matrix for future use\n",
        "    save_npz(path, sample_sparse_matrix)\n",
        "\n",
        "    return sample_sparse_matrix\n",
        "\n",
        "start = datetime.now()\n",
        "# Updated path to save in /content/\n",
        "path = \"/content/sample_train_sparse_matrix.npz\"\n",
        "\n",
        "if os.path.isfile(path):\n",
        "    print(\"It is present in your pwd, getting it from disk....\")\n",
        "    sample_train_sparse_matrix = sparse_matrix.load_npz(path)\n",
        "    print(\"DONE..\")\n",
        "else:\n",
        "    # get 10k users and 1k movies from available data\n",
        "    sample_train_sparse_matrix = get_sample_sparse_matrix(sparse_matrix, no_users=10000, no_movies=1000, path=path)\n",
        "\n",
        "print(\"Time taken:\", datetime.now() - start)"
      ],
      "metadata": {
        "colab": {
          "base_uri": "https://localhost:8080/"
        },
        "id": "u3072syN8bHs",
        "outputId": "7792978f-bbce-4411-e666-7f79d0ddf06c"
      },
      "execution_count": null,
      "outputs": [
        {
          "output_type": "stream",
          "name": "stdout",
          "text": [
            "Time taken: 0:00:00.091949\n"
          ]
        }
      ]
    },
    {
      "cell_type": "code",
      "source": [
        "start = datetime.now()\n",
        "# Updated path to save in /content/\n",
        "path = \"/content/sample_test_sparse_matrix.npz\"\n",
        "\n",
        "if os.path.isfile(path):\n",
        "    print(\"It is present in your pwd, getting it from disk....\")\n",
        "    sample_test_sparse_matrix = sparse_matrix.load_npz(path)\n",
        "    print(\"DONE..\")\n",
        "else:\n",
        "    # get 10k users and 1k movies from available data\n",
        "    sample_test_sparse_matrix = get_sample_sparse_matrix(test_sparse_matrix, no_users=10000, no_movies=1000, path=path)\n",
        "\n",
        "print(\"Time taken:\", datetime.now() - start)\n"
      ],
      "metadata": {
        "colab": {
          "base_uri": "https://localhost:8080/"
        },
        "id": "kFeCdrd6AH_l",
        "outputId": "0f360692-fd8c-4b32-a727-1d6d92799d1a"
      },
      "execution_count": null,
      "outputs": [
        {
          "output_type": "stream",
          "name": "stdout",
          "text": [
            "Time taken: 0:00:00.036771\n"
          ]
        }
      ]
    },
    {
      "cell_type": "code",
      "source": [
        "# Global average rating\n",
        "global_average_rating = train_df['rating'].mean()\n",
        "print(f\"Global average rating: {global_average_rating:.2f}\")\n",
        "\n",
        "# Average rating per user\n",
        "average_rating_per_user = train_df.groupby('user')['rating'].mean()\n",
        "print(\"Average rating per user:\\n\", average_rating_per_user.head())\n",
        "\n",
        "# Average rating per movie\n",
        "average_rating_per_movie = train_df.groupby('movie')['rating'].mean()\n",
        "print(\"Average rating per movie:\\n\", average_rating_per_movie.head())\n"
      ],
      "metadata": {
        "colab": {
          "base_uri": "https://localhost:8080/"
        },
        "id": "R3FXyZtlAdlE",
        "outputId": "1e8f78f3-9eb9-4764-c1dc-7024a955d940"
      },
      "execution_count": null,
      "outputs": [
        {
          "output_type": "stream",
          "name": "stdout",
          "text": [
            "Global average rating: 3.58\n",
            "Average rating per user:\n",
            " user\n",
            "6     3.516055\n",
            "7     3.992958\n",
            "10    3.378109\n",
            "25    3.500000\n",
            "33    3.787879\n",
            "Name: rating, dtype: float64\n",
            "Average rating per movie:\n",
            " movie\n",
            "1    3.718987\n",
            "2    3.692308\n",
            "3    3.647418\n",
            "4    2.763359\n",
            "5    4.036817\n",
            "Name: rating, dtype: float64\n"
          ]
        }
      ]
    },
    {
      "cell_type": "markdown",
      "source": [
        "### Converting the problem into regression problem :"
      ],
      "metadata": {
        "id": "u0Y0EDOfEXsO"
      }
    },
    {
      "cell_type": "markdown",
      "source": [
        "### Creating my training features :"
      ],
      "metadata": {
        "id": "raf3xssBH-yT"
      }
    },
    {
      "cell_type": "code",
      "source": [
        "from scipy.sparse import find\n",
        "sample_train_users, sample_train_movies, sample_train_ratings = find(sample_train_sparse_matrix)"
      ],
      "metadata": {
        "id": "qY1ybxGLM8-F"
      },
      "execution_count": null,
      "outputs": []
    },
    {
      "cell_type": "code",
      "source": [],
      "metadata": {
        "id": "ULwRA5X-QLUf"
      },
      "execution_count": null,
      "outputs": []
    },
    {
      "cell_type": "code",
      "source": [
        "#  average rating per user\n",
        "average_rating_per_user = train_df.groupby('user')['rating'].mean()\n",
        "#  average rating per movie\n",
        "average_rating_per_movie = train_df.groupby('movie')['rating'].mean()\n",
        "#  global average rating\n",
        "global_average_rating = train_df['rating'].mean()\n",
        "\n",
        "#  sample_train_averages dictionary\n",
        "sample_train_averages = {\n",
        "    'global': global_average_rating,\n",
        "    'user': average_rating_per_user,\n",
        "    'movie': average_rating_per_movie\n",
        "}\n",
        "\n",
        "\n",
        "#Creating my training features:\n",
        "sample_train_users, sample_train_movies, sample_train_ratings = find(sample_train_sparse_matrix)\n",
        "\n",
        "start = datetime.now()\n",
        "if os.path.isfile('/content/reg_train.csv'):\n",
        "    print(\"File already exists you don't have to prepare again...\")\n",
        "else:\n",
        "    print('preparing {} tuples for the dataset..\\n'.format(len(sample_train_ratings)))\n",
        "    with open('/content/reg_train.csv', mode='w') as reg_data_file:\n",
        "        count = 0\n",
        "        for (user, movie, rating) in zip(sample_train_users, sample_train_movies, sample_train_ratings):\n",
        "            st = datetime.now()\n",
        "\n",
        "\n",
        "            # Getting the original user and movie IDs from the train_df using the index of sampled data\n",
        "            original_user_id = train_df['user'].iloc[sample_train_sparse_matrix.tocsr()[user].indices[0]]\n",
        "            original_movie_id = train_df['movie'].iloc[sample_train_sparse_matrix.tocsr()[:,movie].indices[0]]\n",
        "\n",
        "            # Ratings of \"movie\" by similar users of \"user\"\n",
        "            user_sim = cosine_similarity(sample_train_sparse_matrix[user], sample_train_sparse_matrix).ravel()\n",
        "            top_sim_users = user_sim.argsort()[::-1][1:]\n",
        "            top_ratings = sample_train_sparse_matrix[top_sim_users, movie].toarray().ravel()\n",
        "            top_sim_users_ratings = list(top_ratings[top_ratings != 0][:5])\n",
        "            # Accessing movie average from sample_train_averages\n",
        "\n",
        "            top_sim_users_ratings.extend([sample_train_averages['movie'][original_movie_id]] * (5 - len(top_sim_users_ratings)))\n",
        "\n",
        "\n",
        "            # Ratings by \"user\" to similar movies of \"movie\"\n",
        "            movie_sim = cosine_similarity(sample_train_sparse_matrix[:, movie].T, sample_train_sparse_matrix.T).ravel()\n",
        "            top_sim_movies = movie_sim.argsort()[::-1][1:]\n",
        "            top_ratings = sample_train_sparse_matrix[user, top_sim_movies].toarray().ravel()\n",
        "            top_sim_movies_ratings = list(top_ratings[top_ratings != 0][:5])\n",
        "            # Accessing user average from sample_train_averages\n",
        "\n",
        "            top_sim_movies_ratings.extend([sample_train_averages['user'][original_user_id]] * (5 - len(top_sim_movies_ratings)))\n",
        "\n",
        "\n",
        "            # Preparing the row to be stored in a file\n",
        "            row = [user, movie, sample_train_averages['global']]  # first feature\n",
        "            row.extend(top_sim_users_ratings)  # next 5 features\n",
        "            row.extend(top_sim_movies_ratings)  # next 5 features\n",
        "\n",
        "            row.append(sample_train_averages['user'][original_user_id])  # Avg_user rating\n",
        "            row.append(sample_train_averages['movie'][original_movie_id])  # Avg_movie rating\n",
        "            row.append(rating)  # The actual Rating\n",
        "\n",
        "            count += 1\n",
        "\n",
        "            reg_data_file.write(','.join(map(str, row)))\n",
        "            reg_data_file.write('\\n')\n",
        "            if (count) % 10000 == 0:\n",
        "                print(\"Done for {} rows----- {}\".format(count, datetime.now() - start))\n",
        "\n",
        "print(datetime.now() - start)\n",
        "\n"
      ],
      "metadata": {
        "colab": {
          "base_uri": "https://localhost:8080/"
        },
        "id": "Cf0ahgvnQhcL",
        "outputId": "9894ef44-b455-4747-aebc-88028ee7ae61"
      },
      "execution_count": null,
      "outputs": [
        {
          "output_type": "stream",
          "name": "stdout",
          "text": [
            "preparing 109483 tuples for the dataset..\n",
            "\n",
            "Done for 10000 rows----- 0:02:02.010761\n",
            "Done for 20000 rows----- 0:04:03.586466\n",
            "Done for 30000 rows----- 0:06:04.978613\n",
            "Done for 40000 rows----- 0:08:06.276471\n",
            "Done for 50000 rows----- 0:10:07.520079\n",
            "Done for 60000 rows----- 0:12:08.441816\n",
            "Done for 70000 rows----- 0:14:09.381941\n",
            "Done for 80000 rows----- 0:16:10.831306\n",
            "Done for 90000 rows----- 0:18:11.882501\n",
            "Done for 100000 rows----- 0:20:12.873176\n",
            "0:22:07.200392\n"
          ]
        }
      ]
    },
    {
      "cell_type": "code",
      "source": [
        "start = datetime.now()\n",
        "if os.path.isfile('/content/reg_test.csv'):\n",
        "    print(\"File already exists you don't have to prepare again...\")\n",
        "else:\n",
        "    print('preparing {} tuples for the dataset..\\n'.format(len(sample_test_sparse_matrix.data)))\n",
        "    with open('/content/reg_test.csv', mode='w') as reg_data_file:\n",
        "        count = 0\n",
        "        sample_test_users, sample_test_movies, sample_test_ratings = find(sample_test_sparse_matrix)\n",
        "        for (user, movie, rating) in zip(sample_test_users, sample_test_movies, sample_test_ratings):\n",
        "            st = datetime.now()\n",
        "\n",
        "            try:\n",
        "              original_user_id = test_df['user'].iloc[sample_test_sparse_matrix.tocsr()[user].indices[0]]\n",
        "              original_movie_id = test_df['movie'].iloc[sample_test_sparse_matrix.tocsr()[:,movie].indices[0]]\n",
        "            except:\n",
        "              continue\n",
        "\n",
        "            # Ratings of \"movie\" by similar users of \"user\"\n",
        "            user_sim = cosine_similarity(sample_test_sparse_matrix[user], sample_test_sparse_matrix).ravel()\n",
        "            top_sim_users = user_sim.argsort()[::-1][1:]\n",
        "            top_ratings = sample_test_sparse_matrix[top_sim_users, movie].toarray().ravel()\n",
        "            top_sim_users_ratings = list(top_ratings[top_ratings != 0][:5])\n",
        "            # Accessing movie average from sample_train_averages\n",
        "\n",
        "            try:\n",
        "              top_sim_users_ratings.extend([sample_train_averages['movie'][original_movie_id]] * (5 - len(top_sim_users_ratings)))\n",
        "            except:\n",
        "              top_sim_users_ratings.extend([sample_train_averages['global']] * (5 - len(top_sim_users_ratings)))\n",
        "\n",
        "\n",
        "            # Ratings by \"user\" to similar movies of \"movie\"\n",
        "            movie_sim = cosine_similarity(sample_test_sparse_matrix[:, movie].T, sample_test_sparse_matrix.T).ravel()\n",
        "            top_sim_movies = movie_sim.argsort()[::-1][1:]\n",
        "            top_ratings = sample_test_sparse_matrix[user, top_sim_movies].toarray().ravel()\n",
        "            top_sim_movies_ratings = list(top_ratings[top_ratings != 0][:5])\n",
        "            # Accessing user average from sample_train_averages\n",
        "\n",
        "            try:\n",
        "              top_sim_movies_ratings.extend([sample_train_averages['user'][original_user_id]] * (5 - len(top_sim_movies_ratings)))\n",
        "            except:\n",
        "              top_sim_movies_ratings.extend([sample_train_averages['global']] * (5 - len(top_sim_movies_ratings)))\n",
        "\n",
        "\n",
        "            # Prepare the row to be stored in a file\n",
        "            row = [user, movie, sample_train_averages['global']]  # first feature\n",
        "            row.extend(top_sim_users_ratings)  # next 5 features\n",
        "            row.extend(top_sim_movies_ratings)  # next 5 features\n",
        "            # --- Changes here ---\n",
        "            try:\n",
        "              row.append(sample_train_averages['user'][original_user_id])  # Avg_user rating\n",
        "            except:\n",
        "              row.append(sample_train_averages['global'])\n",
        "            try:\n",
        "              row.append(sample_train_averages['movie'][original_movie_id])  # Avg_movie rating\n",
        "            except:\n",
        "              row.append(sample_train_averages['global'])\n",
        "\n",
        "            row.append(rating)  # The actual Rating\n",
        "\n",
        "            count += 1\n",
        "\n",
        "            reg_data_file.write(','.join(map(str, row)))\n",
        "            reg_data_file.write('\\n')\n",
        "            if (count) % 10000 == 0:\n",
        "                print(\"Done for {} rows----- {}\".format(count, datetime.now() - start))\n",
        "\n",
        "print(datetime.now() - start)\n"
      ],
      "metadata": {
        "colab": {
          "base_uri": "https://localhost:8080/"
        },
        "id": "4vpFiBGaaz0s",
        "outputId": "4fcb86ea-8575-45e4-b99b-c571a40ab1f5"
      },
      "execution_count": null,
      "outputs": [
        {
          "output_type": "stream",
          "name": "stdout",
          "text": [
            "preparing 33201 tuples for the dataset..\n",
            "\n",
            "Done for 10000 rows----- 0:01:04.141108\n",
            "Done for 20000 rows----- 0:02:08.330927\n",
            "Done for 30000 rows----- 0:03:12.172255\n",
            "0:03:32.587498\n"
          ]
        }
      ]
    },
    {
      "cell_type": "markdown",
      "source": [
        "### transforming data for Surprise models\n",
        "- We dont give raw data to train the model in surprise library.\n",
        "- They have a saperate format for train and test data, which will be useful for training the models like SVD, KNN BaseLineOnly...etc..., in surprise\n",
        "- We can form the trainset from a file or from a pandas DataFrame."
      ],
      "metadata": {
        "id": "5MeRlaG1WYqn"
      }
    },
    {
      "cell_type": "code",
      "source": [
        "# Step 1: Force reinstallation of both packages\n",
        "!pip uninstall -y numpy scikit-surprise\n",
        "!pip install numpy --upgrade\n",
        "!pip install scikit-surprise --no-cache-dir --force-reinstall\n",
        "\n"
      ],
      "metadata": {
        "colab": {
          "base_uri": "https://localhost:8080/",
          "height": 1000
        },
        "id": "IsfsxAw0jX4q",
        "outputId": "ba156352-c263-4474-b183-2812e9a6734e"
      },
      "execution_count": null,
      "outputs": [
        {
          "output_type": "stream",
          "name": "stdout",
          "text": [
            "Found existing installation: numpy 2.2.4\n",
            "Uninstalling numpy-2.2.4:\n",
            "  Successfully uninstalled numpy-2.2.4\n",
            "Found existing installation: scikit-surprise 1.1.4\n",
            "Uninstalling scikit-surprise-1.1.4:\n",
            "  Successfully uninstalled scikit-surprise-1.1.4\n",
            "Collecting numpy\n",
            "  Using cached numpy-2.2.4-cp311-cp311-manylinux_2_17_x86_64.manylinux2014_x86_64.whl.metadata (62 kB)\n",
            "Using cached numpy-2.2.4-cp311-cp311-manylinux_2_17_x86_64.manylinux2014_x86_64.whl (16.4 MB)\n",
            "Installing collected packages: numpy\n",
            "\u001b[31mERROR: pip's dependency resolver does not currently take into account all the packages that are installed. This behaviour is the source of the following dependency conflicts.\n",
            "numba 0.61.0 requires numpy<2.2,>=1.24, but you have numpy 2.2.4 which is incompatible.\u001b[0m\u001b[31m\n",
            "\u001b[0mSuccessfully installed numpy-2.2.4\n",
            "Collecting scikit-surprise\n",
            "  Downloading scikit_surprise-1.1.4.tar.gz (154 kB)\n",
            "\u001b[2K     \u001b[90m━━━━━━━━━━━━━━━━━━━━━━━━━━━━━━━━━━━━━━━━\u001b[0m \u001b[32m154.4/154.4 kB\u001b[0m \u001b[31m5.1 MB/s\u001b[0m eta \u001b[36m0:00:00\u001b[0m\n",
            "\u001b[?25h  Installing build dependencies ... \u001b[?25l\u001b[?25hdone\n",
            "  Getting requirements to build wheel ... \u001b[?25l\u001b[?25hdone\n",
            "  Preparing metadata (pyproject.toml) ... \u001b[?25l\u001b[?25hdone\n",
            "Collecting joblib>=1.2.0 (from scikit-surprise)\n",
            "  Downloading joblib-1.4.2-py3-none-any.whl.metadata (5.4 kB)\n",
            "Collecting numpy>=1.19.5 (from scikit-surprise)\n",
            "  Downloading numpy-2.2.4-cp311-cp311-manylinux_2_17_x86_64.manylinux2014_x86_64.whl.metadata (62 kB)\n",
            "\u001b[2K     \u001b[90m━━━━━━━━━━━━━━━━━━━━━━━━━━━━━━━━━━━━━━━━\u001b[0m \u001b[32m62.0/62.0 kB\u001b[0m \u001b[31m273.5 MB/s\u001b[0m eta \u001b[36m0:00:00\u001b[0m\n",
            "\u001b[?25hCollecting scipy>=1.6.0 (from scikit-surprise)\n",
            "  Downloading scipy-1.15.2-cp311-cp311-manylinux_2_17_x86_64.manylinux2014_x86_64.whl.metadata (61 kB)\n",
            "\u001b[2K     \u001b[90m━━━━━━━━━━━━━━━━━━━━━━━━━━━━━━━━━━━━━━━━\u001b[0m \u001b[32m62.0/62.0 kB\u001b[0m \u001b[31m264.8 MB/s\u001b[0m eta \u001b[36m0:00:00\u001b[0m\n",
            "\u001b[?25hDownloading joblib-1.4.2-py3-none-any.whl (301 kB)\n",
            "\u001b[2K   \u001b[90m━━━━━━━━━━━━━━━━━━━━━━━━━━━━━━━━━━━━━━━━\u001b[0m \u001b[32m301.8/301.8 kB\u001b[0m \u001b[31m27.6 MB/s\u001b[0m eta \u001b[36m0:00:00\u001b[0m\n",
            "\u001b[?25hDownloading numpy-2.2.4-cp311-cp311-manylinux_2_17_x86_64.manylinux2014_x86_64.whl (16.4 MB)\n",
            "\u001b[2K   \u001b[90m━━━━━━━━━━━━━━━━━━━━━━━━━━━━━━━━━━━━━━━━\u001b[0m \u001b[32m16.4/16.4 MB\u001b[0m \u001b[31m315.2 MB/s\u001b[0m eta \u001b[36m0:00:00\u001b[0m\n",
            "\u001b[?25hDownloading scipy-1.15.2-cp311-cp311-manylinux_2_17_x86_64.manylinux2014_x86_64.whl (37.6 MB)\n",
            "\u001b[2K   \u001b[90m━━━━━━━━━━━━━━━━━━━━━━━━━━━━━━━━━━━━━━━━\u001b[0m \u001b[32m37.6/37.6 MB\u001b[0m \u001b[31m304.1 MB/s\u001b[0m eta \u001b[36m0:00:00\u001b[0m\n",
            "\u001b[?25hBuilding wheels for collected packages: scikit-surprise\n",
            "  Building wheel for scikit-surprise (pyproject.toml) ... \u001b[?25l\u001b[?25hdone\n",
            "  Created wheel for scikit-surprise: filename=scikit_surprise-1.1.4-cp311-cp311-linux_x86_64.whl size=2505211 sha256=cbd6b5fde81c4844fb25c747f4f8a251fd56646264649217523a3d5fddae627e\n",
            "  Stored in directory: /tmp/pip-ephem-wheel-cache-jl5vvgq6/wheels/2a/8f/6e/7e2899163e2d85d8266daab4aa1cdabec7a6c56f83c015b5af\n",
            "Successfully built scikit-surprise\n",
            "Installing collected packages: numpy, joblib, scipy, scikit-surprise\n",
            "  Attempting uninstall: numpy\n",
            "    Found existing installation: numpy 2.2.4\n",
            "    Uninstalling numpy-2.2.4:\n",
            "      Successfully uninstalled numpy-2.2.4\n",
            "  Attempting uninstall: joblib\n",
            "    Found existing installation: joblib 1.4.2\n",
            "    Uninstalling joblib-1.4.2:\n",
            "      Successfully uninstalled joblib-1.4.2\n",
            "  Attempting uninstall: scipy\n",
            "    Found existing installation: scipy 1.15.2\n",
            "    Uninstalling scipy-1.15.2:\n",
            "      Successfully uninstalled scipy-1.15.2\n",
            "\u001b[31mERROR: pip's dependency resolver does not currently take into account all the packages that are installed. This behaviour is the source of the following dependency conflicts.\n",
            "numba 0.61.0 requires numpy<2.2,>=1.24, but you have numpy 2.2.4 which is incompatible.\u001b[0m\u001b[31m\n",
            "\u001b[0mSuccessfully installed joblib-1.4.2 numpy-2.2.4 scikit-surprise-1.1.4 scipy-1.15.2\n"
          ]
        },
        {
          "output_type": "display_data",
          "data": {
            "application/vnd.colab-display-data+json": {
              "pip_warning": {
                "packages": [
                  "joblib"
                ]
              },
              "id": "e209d86720c645fcb8f5a8ee25bfeaaa"
            }
          },
          "metadata": {}
        }
      ]
    },
    {
      "cell_type": "code",
      "source": [
        "import importlib\n",
        "import sys\n",
        "\n",
        "# Step 2: Manually reload numpy and surprise (bypass cached version)\n",
        "importlib.reload(sys.modules['numpy'])\n",
        "sys.modules.pop('surprise', None)  # Remove surprise if it's in memory\n",
        "\n",
        "# Step 3: Try importing again\n",
        "from surprise import Reader, Dataset\n",
        "reader = Reader(rating_scale=(1,5))\n"
      ],
      "metadata": {
        "colab": {
          "base_uri": "https://localhost:8080/",
          "height": 792
        },
        "id": "mzp4Nk-dj4sR",
        "outputId": "6aaeb5c5-45a9-4c71-dda9-d17a9a0e9da0"
      },
      "execution_count": null,
      "outputs": [
        {
          "output_type": "error",
          "ename": "ImportError",
          "evalue": "Error importing numpy: you should not try to import numpy from\n        its source directory; please exit the numpy source tree, and relaunch\n        your python interpreter from there.",
          "traceback": [
            "\u001b[0;31m---------------------------------------------------------------------------\u001b[0m",
            "\u001b[0;31mImportError\u001b[0m                               Traceback (most recent call last)",
            "\u001b[0;32m/usr/local/lib/python3.11/dist-packages/numpy/__init__.py\u001b[0m in \u001b[0;36m<module>\u001b[0;34m\u001b[0m\n\u001b[1;32m    113\u001b[0m     \u001b[0;32mtry\u001b[0m\u001b[0;34m:\u001b[0m\u001b[0;34m\u001b[0m\u001b[0;34m\u001b[0m\u001b[0m\n\u001b[0;32m--> 114\u001b[0;31m         \u001b[0;32mfrom\u001b[0m \u001b[0mnumpy\u001b[0m\u001b[0;34m.\u001b[0m\u001b[0m__config__\u001b[0m \u001b[0;32mimport\u001b[0m \u001b[0mshow_config\u001b[0m\u001b[0;34m\u001b[0m\u001b[0;34m\u001b[0m\u001b[0m\n\u001b[0m\u001b[1;32m    115\u001b[0m     \u001b[0;32mexcept\u001b[0m \u001b[0mImportError\u001b[0m \u001b[0;32mas\u001b[0m \u001b[0me\u001b[0m\u001b[0;34m:\u001b[0m\u001b[0;34m\u001b[0m\u001b[0;34m\u001b[0m\u001b[0m\n",
            "\u001b[0;31mImportError\u001b[0m: cannot import name 'show_config' from 'numpy.__config__' (/usr/local/lib/python3.11/dist-packages/numpy/__config__.py)",
            "\nThe above exception was the direct cause of the following exception:\n",
            "\u001b[0;31mImportError\u001b[0m                               Traceback (most recent call last)",
            "\u001b[0;32m<ipython-input-63-3efe8f5fb209>\u001b[0m in \u001b[0;36m<cell line: 0>\u001b[0;34m()\u001b[0m\n\u001b[1;32m      3\u001b[0m \u001b[0;34m\u001b[0m\u001b[0m\n\u001b[1;32m      4\u001b[0m \u001b[0;31m# Step 2: Manually reload numpy and surprise (bypass cached version)\u001b[0m\u001b[0;34m\u001b[0m\u001b[0;34m\u001b[0m\u001b[0m\n\u001b[0;32m----> 5\u001b[0;31m \u001b[0mimportlib\u001b[0m\u001b[0;34m.\u001b[0m\u001b[0mreload\u001b[0m\u001b[0;34m(\u001b[0m\u001b[0msys\u001b[0m\u001b[0;34m.\u001b[0m\u001b[0mmodules\u001b[0m\u001b[0;34m[\u001b[0m\u001b[0;34m'numpy'\u001b[0m\u001b[0;34m]\u001b[0m\u001b[0;34m)\u001b[0m\u001b[0;34m\u001b[0m\u001b[0;34m\u001b[0m\u001b[0m\n\u001b[0m\u001b[1;32m      6\u001b[0m \u001b[0msys\u001b[0m\u001b[0;34m.\u001b[0m\u001b[0mmodules\u001b[0m\u001b[0;34m.\u001b[0m\u001b[0mpop\u001b[0m\u001b[0;34m(\u001b[0m\u001b[0;34m'surprise'\u001b[0m\u001b[0;34m,\u001b[0m \u001b[0;32mNone\u001b[0m\u001b[0;34m)\u001b[0m  \u001b[0;31m# Remove surprise if it's in memory\u001b[0m\u001b[0;34m\u001b[0m\u001b[0;34m\u001b[0m\u001b[0m\n\u001b[1;32m      7\u001b[0m \u001b[0;34m\u001b[0m\u001b[0m\n",
            "\u001b[0;32m/usr/lib/python3.11/importlib/__init__.py\u001b[0m in \u001b[0;36mreload\u001b[0;34m(module)\u001b[0m\n\u001b[1;32m    167\u001b[0m         \u001b[0;32mif\u001b[0m \u001b[0mspec\u001b[0m \u001b[0;32mis\u001b[0m \u001b[0;32mNone\u001b[0m\u001b[0;34m:\u001b[0m\u001b[0;34m\u001b[0m\u001b[0;34m\u001b[0m\u001b[0m\n\u001b[1;32m    168\u001b[0m             \u001b[0;32mraise\u001b[0m \u001b[0mModuleNotFoundError\u001b[0m\u001b[0;34m(\u001b[0m\u001b[0;34mf\"spec not found for the module {name!r}\"\u001b[0m\u001b[0;34m,\u001b[0m \u001b[0mname\u001b[0m\u001b[0;34m=\u001b[0m\u001b[0mname\u001b[0m\u001b[0;34m)\u001b[0m\u001b[0;34m\u001b[0m\u001b[0;34m\u001b[0m\u001b[0m\n\u001b[0;32m--> 169\u001b[0;31m         \u001b[0m_bootstrap\u001b[0m\u001b[0;34m.\u001b[0m\u001b[0m_exec\u001b[0m\u001b[0;34m(\u001b[0m\u001b[0mspec\u001b[0m\u001b[0;34m,\u001b[0m \u001b[0mmodule\u001b[0m\u001b[0;34m)\u001b[0m\u001b[0;34m\u001b[0m\u001b[0;34m\u001b[0m\u001b[0m\n\u001b[0m\u001b[1;32m    170\u001b[0m         \u001b[0;31m# The module may have replaced itself in sys.modules!\u001b[0m\u001b[0;34m\u001b[0m\u001b[0;34m\u001b[0m\u001b[0m\n\u001b[1;32m    171\u001b[0m         \u001b[0;32mreturn\u001b[0m \u001b[0msys\u001b[0m\u001b[0;34m.\u001b[0m\u001b[0mmodules\u001b[0m\u001b[0;34m[\u001b[0m\u001b[0mname\u001b[0m\u001b[0;34m]\u001b[0m\u001b[0;34m\u001b[0m\u001b[0;34m\u001b[0m\u001b[0m\n",
            "\u001b[0;32m/usr/lib/python3.11/importlib/_bootstrap.py\u001b[0m in \u001b[0;36m_exec\u001b[0;34m(spec, module)\u001b[0m\n",
            "\u001b[0;32m/usr/lib/python3.11/importlib/_bootstrap_external.py\u001b[0m in \u001b[0;36mexec_module\u001b[0;34m(self, module)\u001b[0m\n",
            "\u001b[0;32m/usr/lib/python3.11/importlib/_bootstrap.py\u001b[0m in \u001b[0;36m_call_with_frames_removed\u001b[0;34m(f, *args, **kwds)\u001b[0m\n",
            "\u001b[0;32m/usr/local/lib/python3.11/dist-packages/numpy/__init__.py\u001b[0m in \u001b[0;36m<module>\u001b[0;34m\u001b[0m\n\u001b[1;32m    117\u001b[0m         \u001b[0mits\u001b[0m \u001b[0msource\u001b[0m \u001b[0mdirectory\u001b[0m\u001b[0;34m;\u001b[0m \u001b[0mplease\u001b[0m \u001b[0mexit\u001b[0m \u001b[0mthe\u001b[0m \u001b[0mnumpy\u001b[0m \u001b[0msource\u001b[0m \u001b[0mtree\u001b[0m\u001b[0;34m,\u001b[0m \u001b[0;32mand\u001b[0m \u001b[0mrelaunch\u001b[0m\u001b[0;34m\u001b[0m\u001b[0;34m\u001b[0m\u001b[0m\n\u001b[1;32m    118\u001b[0m         your python interpreter from there.\"\"\"\n\u001b[0;32m--> 119\u001b[0;31m         \u001b[0;32mraise\u001b[0m \u001b[0mImportError\u001b[0m\u001b[0;34m(\u001b[0m\u001b[0mmsg\u001b[0m\u001b[0;34m)\u001b[0m \u001b[0;32mfrom\u001b[0m \u001b[0me\u001b[0m\u001b[0;34m\u001b[0m\u001b[0;34m\u001b[0m\u001b[0m\n\u001b[0m\u001b[1;32m    120\u001b[0m \u001b[0;34m\u001b[0m\u001b[0m\n\u001b[1;32m    121\u001b[0m     \u001b[0;32mfrom\u001b[0m \u001b[0;34m.\u001b[0m \u001b[0;32mimport\u001b[0m \u001b[0m_core\u001b[0m\u001b[0;34m\u001b[0m\u001b[0;34m\u001b[0m\u001b[0m\n",
            "\u001b[0;31mImportError\u001b[0m: Error importing numpy: you should not try to import numpy from\n        its source directory; please exit the numpy source tree, and relaunch\n        your python interpreter from there.",
            "",
            "\u001b[0;31m---------------------------------------------------------------------------\u001b[0;32m\nNOTE: If your import is failing due to a missing package, you can\nmanually install dependencies using either !pip or !apt.\n\nTo view examples of installing some common dependencies, click the\n\"Open Examples\" button below.\n\u001b[0;31m---------------------------------------------------------------------------\u001b[0m\n"
          ],
          "errorDetails": {
            "actions": [
              {
                "action": "open_url",
                "actionText": "Open Examples",
                "url": "/notebooks/snippets/importing_libraries.ipynb"
              }
            ]
          }
        }
      ]
    },
    {
      "cell_type": "code",
      "source": [
        "from surprise import Reader, Dataset\n",
        "reader = Reader(rating_scale=(1,5))\n"
      ],
      "metadata": {
        "colab": {
          "base_uri": "https://localhost:8080/",
          "height": 1000
        },
        "id": "VTjV0f0Si_0v",
        "outputId": "b3ebc5e0-5cde-4b3b-c513-778d1753d7ca"
      },
      "execution_count": null,
      "outputs": [
        {
          "output_type": "stream",
          "name": "stderr",
          "text": [
            "\n",
            "A module that was compiled using NumPy 1.x cannot be run in\n",
            "NumPy 2.0.2 as it may crash. To support both 1.x and 2.x\n",
            "versions of NumPy, modules must be compiled with NumPy 2.0.\n",
            "Some module may need to rebuild instead e.g. with 'pybind11>=2.12'.\n",
            "\n",
            "If you are a user of the module, the easiest solution will be to\n",
            "downgrade to 'numpy<2' or try to upgrade the affected module.\n",
            "We expect that some modules will need time to support NumPy 2.\n",
            "\n",
            "Traceback (most recent call last):  File \"<frozen runpy>\", line 198, in _run_module_as_main\n",
            "  File \"<frozen runpy>\", line 88, in _run_code\n",
            "  File \"/usr/local/lib/python3.11/dist-packages/colab_kernel_launcher.py\", line 37, in <module>\n",
            "    ColabKernelApp.launch_instance()\n",
            "  File \"/usr/local/lib/python3.11/dist-packages/traitlets/config/application.py\", line 992, in launch_instance\n",
            "    app.start()\n",
            "  File \"/usr/local/lib/python3.11/dist-packages/ipykernel/kernelapp.py\", line 712, in start\n",
            "    self.io_loop.start()\n",
            "  File \"/usr/local/lib/python3.11/dist-packages/tornado/platform/asyncio.py\", line 205, in start\n",
            "    self.asyncio_loop.run_forever()\n",
            "  File \"/usr/lib/python3.11/asyncio/base_events.py\", line 608, in run_forever\n",
            "    self._run_once()\n",
            "  File \"/usr/lib/python3.11/asyncio/base_events.py\", line 1936, in _run_once\n",
            "    handle._run()\n",
            "  File \"/usr/lib/python3.11/asyncio/events.py\", line 84, in _run\n",
            "    self._context.run(self._callback, *self._args)\n",
            "  File \"/usr/local/lib/python3.11/dist-packages/ipykernel/kernelbase.py\", line 510, in dispatch_queue\n",
            "    await self.process_one()\n",
            "  File \"/usr/local/lib/python3.11/dist-packages/ipykernel/kernelbase.py\", line 499, in process_one\n",
            "    await dispatch(*args)\n",
            "  File \"/usr/local/lib/python3.11/dist-packages/ipykernel/kernelbase.py\", line 406, in dispatch_shell\n",
            "    await result\n",
            "  File \"/usr/local/lib/python3.11/dist-packages/ipykernel/kernelbase.py\", line 730, in execute_request\n",
            "    reply_content = await reply_content\n",
            "  File \"/usr/local/lib/python3.11/dist-packages/ipykernel/ipkernel.py\", line 383, in do_execute\n",
            "    res = shell.run_cell(\n",
            "  File \"/usr/local/lib/python3.11/dist-packages/ipykernel/zmqshell.py\", line 528, in run_cell\n",
            "    return super().run_cell(*args, **kwargs)\n",
            "  File \"/usr/local/lib/python3.11/dist-packages/IPython/core/interactiveshell.py\", line 2975, in run_cell\n",
            "    result = self._run_cell(\n",
            "  File \"/usr/local/lib/python3.11/dist-packages/IPython/core/interactiveshell.py\", line 3030, in _run_cell\n",
            "    return runner(coro)\n",
            "  File \"/usr/local/lib/python3.11/dist-packages/IPython/core/async_helpers.py\", line 78, in _pseudo_sync_runner\n",
            "    coro.send(None)\n",
            "  File \"/usr/local/lib/python3.11/dist-packages/IPython/core/interactiveshell.py\", line 3257, in run_cell_async\n",
            "    has_raised = await self.run_ast_nodes(code_ast.body, cell_name,\n",
            "  File \"/usr/local/lib/python3.11/dist-packages/IPython/core/interactiveshell.py\", line 3473, in run_ast_nodes\n",
            "    if (await self.run_code(code, result,  async_=asy)):\n",
            "  File \"/usr/local/lib/python3.11/dist-packages/IPython/core/interactiveshell.py\", line 3553, in run_code\n",
            "    exec(code_obj, self.user_global_ns, self.user_ns)\n",
            "  File \"<ipython-input-64-8602471bc36c>\", line 1, in <cell line: 0>\n",
            "    from surprise import Reader, Dataset\n",
            "  File \"/usr/local/lib/python3.11/dist-packages/surprise/__init__.py\", line 6, in <module>\n",
            "    from .prediction_algorithms import (\n",
            "  File \"/usr/local/lib/python3.11/dist-packages/surprise/prediction_algorithms/__init__.py\", line 23, in <module>\n",
            "    from .algo_base import AlgoBase\n",
            "  File \"/usr/local/lib/python3.11/dist-packages/surprise/prediction_algorithms/algo_base.py\", line 8, in <module>\n",
            "    from .. import similarities as sims\n"
          ]
        },
        {
          "output_type": "error",
          "ename": "ImportError",
          "evalue": "numpy.core.multiarray failed to import (auto-generated because you didn't call 'numpy.import_array()' after cimporting numpy; use '<void>numpy._import_array' to disable if you are certain you don't need it).",
          "traceback": [
            "\u001b[0;31m---------------------------------------------------------------------------\u001b[0m",
            "\u001b[0;31mImportError\u001b[0m                               Traceback (most recent call last)",
            "\u001b[0;32m<ipython-input-64-8602471bc36c>\u001b[0m in \u001b[0;36m<cell line: 0>\u001b[0;34m()\u001b[0m\n\u001b[0;32m----> 1\u001b[0;31m \u001b[0;32mfrom\u001b[0m \u001b[0msurprise\u001b[0m \u001b[0;32mimport\u001b[0m \u001b[0mReader\u001b[0m\u001b[0;34m,\u001b[0m \u001b[0mDataset\u001b[0m\u001b[0;34m\u001b[0m\u001b[0;34m\u001b[0m\u001b[0m\n\u001b[0m\u001b[1;32m      2\u001b[0m \u001b[0mreader\u001b[0m \u001b[0;34m=\u001b[0m \u001b[0mReader\u001b[0m\u001b[0;34m(\u001b[0m\u001b[0mrating_scale\u001b[0m\u001b[0;34m=\u001b[0m\u001b[0;34m(\u001b[0m\u001b[0;36m1\u001b[0m\u001b[0;34m,\u001b[0m\u001b[0;36m5\u001b[0m\u001b[0;34m)\u001b[0m\u001b[0;34m)\u001b[0m\u001b[0;34m\u001b[0m\u001b[0;34m\u001b[0m\u001b[0m\n",
            "\u001b[0;32m/usr/local/lib/python3.11/dist-packages/surprise/__init__.py\u001b[0m in \u001b[0;36m<module>\u001b[0;34m\u001b[0m\n\u001b[1;32m      4\u001b[0m \u001b[0;32mfrom\u001b[0m \u001b[0;34m.\u001b[0m\u001b[0mdataset\u001b[0m \u001b[0;32mimport\u001b[0m \u001b[0mDataset\u001b[0m\u001b[0;34m\u001b[0m\u001b[0;34m\u001b[0m\u001b[0m\n\u001b[1;32m      5\u001b[0m \u001b[0;34m\u001b[0m\u001b[0m\n\u001b[0;32m----> 6\u001b[0;31m from .prediction_algorithms import (\n\u001b[0m\u001b[1;32m      7\u001b[0m     \u001b[0mAlgoBase\u001b[0m\u001b[0;34m,\u001b[0m\u001b[0;34m\u001b[0m\u001b[0;34m\u001b[0m\u001b[0m\n\u001b[1;32m      8\u001b[0m     \u001b[0mBaselineOnly\u001b[0m\u001b[0;34m,\u001b[0m\u001b[0;34m\u001b[0m\u001b[0;34m\u001b[0m\u001b[0m\n",
            "\u001b[0;32m/usr/local/lib/python3.11/dist-packages/surprise/prediction_algorithms/__init__.py\u001b[0m in \u001b[0;36m<module>\u001b[0;34m\u001b[0m\n\u001b[1;32m     21\u001b[0m \"\"\"\n\u001b[1;32m     22\u001b[0m \u001b[0;34m\u001b[0m\u001b[0m\n\u001b[0;32m---> 23\u001b[0;31m \u001b[0;32mfrom\u001b[0m \u001b[0;34m.\u001b[0m\u001b[0malgo_base\u001b[0m \u001b[0;32mimport\u001b[0m \u001b[0mAlgoBase\u001b[0m\u001b[0;34m\u001b[0m\u001b[0;34m\u001b[0m\u001b[0m\n\u001b[0m\u001b[1;32m     24\u001b[0m \u001b[0;32mfrom\u001b[0m \u001b[0;34m.\u001b[0m\u001b[0mbaseline_only\u001b[0m \u001b[0;32mimport\u001b[0m \u001b[0mBaselineOnly\u001b[0m\u001b[0;34m\u001b[0m\u001b[0;34m\u001b[0m\u001b[0m\n\u001b[1;32m     25\u001b[0m \u001b[0;32mfrom\u001b[0m \u001b[0;34m.\u001b[0m\u001b[0mco_clustering\u001b[0m \u001b[0;32mimport\u001b[0m \u001b[0mCoClustering\u001b[0m\u001b[0;34m\u001b[0m\u001b[0;34m\u001b[0m\u001b[0m\n",
            "\u001b[0;32m/usr/local/lib/python3.11/dist-packages/surprise/prediction_algorithms/algo_base.py\u001b[0m in \u001b[0;36m<module>\u001b[0;34m\u001b[0m\n\u001b[1;32m      6\u001b[0m \u001b[0;32mimport\u001b[0m \u001b[0mheapq\u001b[0m\u001b[0;34m\u001b[0m\u001b[0;34m\u001b[0m\u001b[0m\n\u001b[1;32m      7\u001b[0m \u001b[0;34m\u001b[0m\u001b[0m\n\u001b[0;32m----> 8\u001b[0;31m \u001b[0;32mfrom\u001b[0m \u001b[0;34m.\u001b[0m\u001b[0;34m.\u001b[0m \u001b[0;32mimport\u001b[0m \u001b[0msimilarities\u001b[0m \u001b[0;32mas\u001b[0m \u001b[0msims\u001b[0m\u001b[0;34m\u001b[0m\u001b[0;34m\u001b[0m\u001b[0m\n\u001b[0m\u001b[1;32m      9\u001b[0m \u001b[0;32mfrom\u001b[0m \u001b[0;34m.\u001b[0m\u001b[0moptimize_baselines\u001b[0m \u001b[0;32mimport\u001b[0m \u001b[0mbaseline_als\u001b[0m\u001b[0;34m,\u001b[0m \u001b[0mbaseline_sgd\u001b[0m\u001b[0;34m\u001b[0m\u001b[0;34m\u001b[0m\u001b[0m\n\u001b[1;32m     10\u001b[0m \u001b[0;32mfrom\u001b[0m \u001b[0;34m.\u001b[0m\u001b[0mpredictions\u001b[0m \u001b[0;32mimport\u001b[0m \u001b[0mPrediction\u001b[0m\u001b[0;34m,\u001b[0m \u001b[0mPredictionImpossible\u001b[0m\u001b[0;34m\u001b[0m\u001b[0;34m\u001b[0m\u001b[0m\n",
            "\u001b[0;32m/usr/local/lib/python3.11/dist-packages/surprise/similarities.pyx\u001b[0m in \u001b[0;36minit surprise.similarities\u001b[0;34m()\u001b[0m\n",
            "\u001b[0;31mImportError\u001b[0m: numpy.core.multiarray failed to import (auto-generated because you didn't call 'numpy.import_array()' after cimporting numpy; use '<void>numpy._import_array' to disable if you are certain you don't need it).",
            "",
            "\u001b[0;31m---------------------------------------------------------------------------\u001b[0;32m\nNOTE: If your import is failing due to a missing package, you can\nmanually install dependencies using either !pip or !apt.\n\nTo view examples of installing some common dependencies, click the\n\"Open Examples\" button below.\n\u001b[0;31m---------------------------------------------------------------------------\u001b[0m\n"
          ],
          "errorDetails": {
            "actions": [
              {
                "action": "open_url",
                "actionText": "Open Examples",
                "url": "/notebooks/snippets/importing_libraries.ipynb"
              }
            ]
          }
        }
      ]
    },
    {
      "cell_type": "code",
      "source": [
        "reg_train = pd.read_csv('/content/reg_train.csv', names=['user', 'movie', 'global_avg', 'sim_user1', 'sim_user2', 'sim_user3', 'sim_user4', 'sim_user5', 'sim_movie1', 'sim_movie2', 'sim_movie3', 'sim_movie4', 'sim_movie5', 'user_avg', 'movie_avg', 'rating'])\n"
      ],
      "metadata": {
        "id": "ToCCf8usZxFK"
      },
      "execution_count": null,
      "outputs": []
    },
    {
      "cell_type": "code",
      "source": [
        "reader = Reader(rating_scale=(1,5))\n",
        "# to tell how to read the file\n"
      ],
      "metadata": {
        "id": "6IY98Op5QiKo",
        "colab": {
          "base_uri": "https://localhost:8080/",
          "height": 198
        },
        "outputId": "75070259-32cb-4eca-80ef-c6f00bbc6eb8"
      },
      "execution_count": null,
      "outputs": [
        {
          "output_type": "error",
          "ename": "NameError",
          "evalue": "name 'Reader' is not defined",
          "traceback": [
            "\u001b[0;31m---------------------------------------------------------------------------\u001b[0m",
            "\u001b[0;31mNameError\u001b[0m                                 Traceback (most recent call last)",
            "\u001b[0;32m<ipython-input-57-7f0d390306d9>\u001b[0m in \u001b[0;36m<cell line: 0>\u001b[0;34m()\u001b[0m\n\u001b[0;32m----> 1\u001b[0;31m \u001b[0mreader\u001b[0m \u001b[0;34m=\u001b[0m \u001b[0mReader\u001b[0m\u001b[0;34m(\u001b[0m\u001b[0mrating_scale\u001b[0m\u001b[0;34m=\u001b[0m\u001b[0;34m(\u001b[0m\u001b[0;36m1\u001b[0m\u001b[0;34m,\u001b[0m\u001b[0;36m5\u001b[0m\u001b[0;34m)\u001b[0m\u001b[0;34m)\u001b[0m\u001b[0;34m\u001b[0m\u001b[0;34m\u001b[0m\u001b[0m\n\u001b[0m\u001b[1;32m      2\u001b[0m \u001b[0;31m# to tell how to read the file\u001b[0m\u001b[0;34m\u001b[0m\u001b[0;34m\u001b[0m\u001b[0m\n",
            "\u001b[0;31mNameError\u001b[0m: name 'Reader' is not defined"
          ]
        }
      ]
    },
    {
      "cell_type": "code",
      "source": [
        "# create the traindata from the dataframe\n",
        "train_data = Dataset.load_from_df(reg_train[['user', \"movie\",'rating' ]],reader)"
      ],
      "metadata": {
        "id": "rS59EcOBYkjc"
      },
      "execution_count": null,
      "outputs": []
    },
    {
      "cell_type": "code",
      "source": [
        "trainset = train_data.build_full_trainset()"
      ],
      "metadata": {
        "id": "n_NX_zSSc5oh"
      },
      "execution_count": null,
      "outputs": []
    },
    {
      "cell_type": "code",
      "source": [
        "type(trainset)"
      ],
      "metadata": {
        "id": "7-0ZAjcferi4"
      },
      "execution_count": null,
      "outputs": []
    },
    {
      "cell_type": "code",
      "source": [
        "reg_test =  pd.read_csv('/content/reg_test.csv',names=['user', 'movie', 'global_avg', 'sim_user1', 'sim_user2', 'sim_user3', 'sim_user4', 'sim_user5', 'sim_movie1', 'sim_movie2', 'sim_movie3', 'sim_movie4', 'sim_movie5', 'user_avg', 'movie_avg', 'rating'])"
      ],
      "metadata": {
        "id": "bwf0DdFBdnRg"
      },
      "execution_count": null,
      "outputs": []
    },
    {
      "cell_type": "code",
      "source": [
        "testset = list(zip(reg_test['user'], reg_test['movie'], reg_test['rating']))"
      ],
      "metadata": {
        "id": "n7N6E0TTdFZ-"
      },
      "execution_count": null,
      "outputs": []
    },
    {
      "cell_type": "code",
      "source": [
        "type(testset)"
      ],
      "metadata": {
        "id": "_w2ntgj3eLsC"
      },
      "execution_count": null,
      "outputs": []
    },
    {
      "cell_type": "code",
      "source": [
        "testset[-1]"
      ],
      "metadata": {
        "id": "0tv51jtSeNM5"
      },
      "execution_count": null,
      "outputs": []
    },
    {
      "cell_type": "code",
      "source": [
        "# Applying Machine Learning Models"
      ],
      "metadata": {
        "id": "_vtyuu-weQO6"
      },
      "execution_count": null,
      "outputs": []
    },
    {
      "cell_type": "code",
      "source": [
        "model_evaluation_train = dict()\n",
        "model_evaluation_test = dict()\n",
        "model_evaluation_test, model_evaluation_train"
      ],
      "metadata": {
        "id": "6QOR9QjQe--x"
      },
      "execution_count": null,
      "outputs": []
    },
    {
      "cell_type": "code",
      "source": [
        "from sklearn.metrics import mean_squared_error\n",
        "from sklearn.metrics import mean_absolute_percentage_error\n",
        "\n",
        "def calculate_rmse_mape(actual_ratings, predicted_ratings):\n",
        "  rmse = np.sqrt(mean_squared_error(actual_ratings, predicted_ratings))\n",
        "  mape = mean_absolute_percentage_error(actual_ratings, predicted_ratings)\n",
        "  return rmse, mape\n",
        "\n",
        "\n"
      ],
      "metadata": {
        "id": "dJLAWbb2ybOo"
      },
      "execution_count": null,
      "outputs": []
    },
    {
      "cell_type": "code",
      "source": [
        "#pip install xgboost"
      ],
      "metadata": {
        "id": "6h1jVmwy0RiI"
      },
      "execution_count": null,
      "outputs": []
    },
    {
      "cell_type": "code",
      "source": [
        "# prompt: create a run_xgboost function also store the results in train_results  and test_result dictionary and also store some feature importnce\n",
        "\n",
        "import xgboost as xgb\n",
        "\n",
        "def run_xgboost(train_df, test_df):\n",
        "  \"\"\"Runs XGBoost regression and stores results in dictionaries.\"\"\"\n",
        "\n",
        "  train_results = {}\n",
        "  test_results = {}\n",
        "  feature_importance = {}\n",
        "\n",
        "  X_train = train_df.drop('rating', axis=1)\n",
        "  y_train = train_df['rating']\n",
        "  X_test = test_df.drop('rating', axis=1)\n",
        "  y_test = test_df['rating']\n",
        "\n",
        "  model = xgb.XGBRegressor(objective ='reg:squarederror',\n",
        "                           colsample_bytree = 0.3, learning_rate = 0.1,\n",
        "                           max_depth = 5, alpha = 10, n_estimators = 10)\n",
        "  model.fit(X_train, y_train)\n",
        "\n",
        "  y_train_pred = model.predict(X_train)\n",
        "  y_test_pred = model.predict(X_test)\n",
        "\n",
        "  train_rmse, train_mape = calculate_rmse_mape(y_train, y_train_pred)\n",
        "  test_rmse, test_mape = calculate_rmse_mape(y_test, y_test_pred)\n",
        "\n",
        "  train_results['rmse'] = train_rmse\n",
        "  train_results['mape'] = train_mape\n",
        "  test_results['rmse'] = test_rmse\n",
        "  test_results['mape'] = test_mape\n",
        "\n",
        "  feature_importance['feature_importance'] = model.feature_importances_\n",
        "\n",
        "\n",
        "  return train_results, test_results, feature_importance\n"
      ],
      "metadata": {
        "id": "J64op6g-zE06"
      },
      "execution_count": null,
      "outputs": []
    },
    {
      "cell_type": "code",
      "source": [
        "# prompt: run xg boost regressor on and also include execution time on reg_train and Reg_test data anlso get important features\n",
        "\n",
        "\n",
        "import time\n",
        "\n",
        "start_time = time.time()\n",
        "\n",
        "train_results, test_results, feature_importance = run_xgboost(reg_train, reg_test)\n",
        "\n",
        "end_time = time.time()\n",
        "execution_time = end_time - start_time\n",
        "\n",
        "print(\"XGBoost Regression Results:\")\n",
        "print(\"Train RMSE:\", train_results['rmse'])\n",
        "print(\"Train MAPE:\", train_results['mape'])\n",
        "print(\"Test RMSE:\", test_results['rmse'])\n",
        "print(\"Test MAPE:\", test_results['mape'])\n",
        "print(\"Execution Time:\", execution_time)\n",
        "\n",
        "\n",
        "# Print the most important features\n",
        "feature_importance_df = pd.DataFrame({'Feature': reg_train.drop('rating', axis=1).columns, 'Importance': feature_importance['feature_importance']})\n",
        "feature_importance_df = feature_importance_df.sort_values('Importance', ascending=False)\n",
        "print(\"\\nMost Important Features:\")\n",
        "feature_importance_df\n"
      ],
      "metadata": {
        "id": "OzE6SgV43eBu"
      },
      "execution_count": null,
      "outputs": []
    },
    {
      "cell_type": "markdown",
      "source": [
        "### Baseline Suprise model:\n",
        "- solving optimization problem\n",
        "- Baselin surprise is similar to user avg., movie avg.\n",
        "- Where as knn surprise model is similar to similarty between users and movies\n",
        "It is a linear model\n",
        "- u: user\n",
        "- r : rating\n",
        "- i : item\n",
        "- r_ui_predicted = b_ui = mean + b_u + b_i\n",
        "- ### Where :\n",
        "- mean is average of all rating\n",
        " in training data\n",
        "- b_u : user bias\n",
        "- b_i : item bias(movie biases)\n",
        "- b_ui = bias of. user u and item i or movie i\n",
        "- r_ui_predicted is th predicted rating of user u and movie i.\n",
        "- ### We call r_ui as baseline model( b_ui)\n",
        "- These biases will be estimated using one optimization problem:\n",
        "- min[b_u, b_i]summation( (r_ui - r_ui_predicted))**2 + regularization*constant , mean will be calculated\n",
        "- Can be solved by using SGD - as linear model\n"
      ],
      "metadata": {
        "id": "z8hQ805HDI2L"
      }
    },
    {
      "cell_type": "code",
      "source": [
        "def calculate_surprise_rmse_mape(predictions):\n",
        "\n",
        "  actual_ratings = [pred.r_ui for pred in predictions]\n",
        "  predicted_ratings = [pred.est for pred in predictions]\n",
        "  rmse = np.sqrt(mean_squared_error(actual_ratings, predicted_ratings))\n",
        "  mape = mean_absolute_percentage_error(actual_ratings, predicted_ratings)\n",
        "  return rmse, mape"
      ],
      "metadata": {
        "id": "ZN0EsmkfIIEM"
      },
      "execution_count": null,
      "outputs": []
    },
    {
      "cell_type": "code",
      "source": [
        "def get_surprise_ratings(predictions):\n",
        "  actual_ratings = [pred.r_ui for pred in predictions]\n",
        "  predicted_ratings = [pred.est for pred in predictions]\n",
        "  return actual_ratings, predicted_ratings\n"
      ],
      "metadata": {
        "id": "KPMi7nBPIM0b"
      },
      "execution_count": null,
      "outputs": []
    },
    {
      "cell_type": "code",
      "source": [
        "from surprise import BaselineOnly"
      ],
      "metadata": {
        "id": "HV1g1vbI752E"
      },
      "execution_count": null,
      "outputs": []
    },
    {
      "cell_type": "code",
      "source": [
        "def run_surprise(algo, trainset, testset):\n",
        "    \"\"\"Trains and evaluates a Surprise algorithm, returning train and test RMSE and MAPE.\"\"\"\n",
        "\n",
        "    start_time = datetime.now()\n",
        "\n",
        "    # Train the algorithm on the trainset\n",
        "    algo.fit(trainset)\n",
        "\n",
        "    # Make predictions on the trainset\n",
        "    train_predictions = algo.test(trainset.build_testset())  # Get predictions for trainset\n",
        "    train_rmse, train_mape = calculate_surprise_rmse_mape(train_predictions)\n",
        "\n",
        "    # Make predictions on the testset\n",
        "    test_predictions = algo.test(testset)\n",
        "    test_rmse, test_mape = calculate_surprise_rmse_mape(test_predictions)\n",
        "\n",
        "    end_time = datetime.now()\n",
        "    execution_time = (end_time - start_time).total_seconds()  # Calculate execution time\n",
        "\n",
        "    print(\"Algorithm:\", type(bsl_algo).__name__)\n",
        "    print(\"Train RMSE:\", train_rmse)\n",
        "    print(\"Train MAPE:\", train_mape)\n",
        "    print(\"Test RMSE:\", test_rmse)\n",
        "    print(\"Test MAPE:\", test_mape)\n",
        "    print(\"Execution time: {} seconds\".format(execution_time))\n",
        "\n",
        "    # Store results in separate dictionaries\n",
        "    train_results = {'rmse': train_rmse, 'mape': train_mape, 'execution_time': execution_time}\n",
        "    test_results = {'rmse': test_rmse, 'mape': test_mape, 'execution_time': execution_time}\n",
        "\n",
        "    return train_results, test_results"
      ],
      "metadata": {
        "id": "BU30h0NyJ5ap"
      },
      "execution_count": null,
      "outputs": []
    },
    {
      "cell_type": "code",
      "source": [
        "bsl_options = {\"method\": \"sgd\", \"learning_rate\": .001}\n",
        "\n",
        "bsl_algo = BaselineOnly(bsl_options=bsl_options)\n",
        "bsl_train_results, bsl_test_results = run_surprise(bsl_algo, trainset, testset)\n",
        "\n",
        "model_evaluation_train['bsl_algo']= bsl_train_results\n",
        "model_evaluation_test['bsl_algo']= bsl_test_results"
      ],
      "metadata": {
        "id": "BQWS_bM4KKZ9"
      },
      "execution_count": null,
      "outputs": []
    },
    {
      "cell_type": "code",
      "source": [
        "from surprise import KNNBaseline"
      ],
      "metadata": {
        "id": "CQO1-ef8L3NH"
      },
      "execution_count": null,
      "outputs": []
    },
    {
      "cell_type": "code",
      "source": [
        "sim_option ={ \"user_based\": True,\n",
        "              \"name\": \"pearson_baseline\",\n",
        "              \"shrinkage\": 100,\n",
        "              \"min_support\" : 2\n",
        "              }\n",
        "# We keep other parameters like regualrization parameter and learning rate\n",
        "bsl_options = {\"method\": 'sgd'}\n",
        "knn_bsl_u = KNNBaseline(k=40, sim_options=sim_option, bsl_options=bsl_options)\n",
        "knn_bsl_u_train_results, knn_bsl_u_test_results = run_surprise(knn_bsl_u, trainset, testset)\n",
        "\n",
        "model_evaluation_train['knn_bsl_u']= knn_bsl_u_train_results\n",
        "model_evaluation_test['knn_bsl_u']= knn_bsl_u_test_results"
      ],
      "metadata": {
        "id": "QGOytnDOOUdJ"
      },
      "execution_count": null,
      "outputs": []
    },
    {
      "cell_type": "code",
      "source": [
        "sim_option ={ \"user_based\": False,\n",
        "              \"name\": \"pearson_baseline\",\n",
        "              \"shrinkage\": 100,\n",
        "              \"min_support\" : 2\n",
        "              }\n",
        "# We keep other parameters like regualrization parameter and learning rate\n",
        "bsl_options = {\"method\": 'sgd'}\n",
        "knn_bsl_m = KNNBaseline(k=40, sim_options=sim_option, bsl_options=bsl_options)\n",
        "knn_bsl_m_train_results, knn_bsl_m_test_results = run_surprise(knn_bsl_m, trainset, testset)\n",
        "\n",
        "model_evaluation_train['knn_bsl_m']= knn_bsl_m_train_results\n",
        "model_evaluation_test['knn_bsl_m']= knn_bsl_m_test_results"
      ],
      "metadata": {
        "id": "FmC8JlCTRWea"
      },
      "execution_count": null,
      "outputs": []
    },
    {
      "cell_type": "markdown",
      "source": [
        "Now Xg boost using Surprise Baseline predictor + KNN Baseline predictor"
      ],
      "metadata": {
        "id": "Q5qnwQAqQ3OR"
      }
    },
    {
      "cell_type": "code",
      "source": [
        "# prompt: now add base line model output , knn item item output and knn user user item output as a features for train and test set for my xgboost algo\n",
        "\n",
        "import pandas as pd\n",
        "# ... (Your existing code) ...\n",
        "\n",
        "reg_train = pd.read_csv('/content/reg_train.csv', names=['user', 'movie', 'global_avg', 'sim_user1', 'sim_user2', 'sim_user3', 'sim_user4', 'sim_user5', 'sim_movie1', 'sim_movie2', 'sim_movie3', 'sim_movie4', 'sim_movie5', 'user_avg', 'movie_avg', 'rating'])\n",
        "\n",
        "# Predict ratings using BaselineOnly model\n",
        "bsl_predictions_train = bsl_algo.test(trainset.build_testset())\n",
        "bsl_predictions_train_df = pd.DataFrame([(pred.uid, pred.iid, pred.est) for pred in bsl_predictions_train], columns=['user', 'movie', 'bsl_pred'])\n",
        "\n",
        "# Predict ratings using KNN user-user model\n",
        "knn_bsl_u_predictions_train = knn_bsl_u.test(trainset.build_testset())\n",
        "knn_bsl_u_predictions_train_df = pd.DataFrame([(pred.uid, pred.iid, pred.est) for pred in knn_bsl_u_predictions_train], columns=['user', 'movie', 'knn_u_pred'])\n",
        "\n",
        "# Predict ratings using KNN item-item model\n",
        "knn_bsl_m_predictions_train = knn_bsl_m.test(trainset.build_testset())\n",
        "knn_bsl_m_predictions_train_df = pd.DataFrame([(pred.uid, pred.iid, pred.est) for pred in knn_bsl_m_predictions_train], columns=['user', 'movie', 'knn_m_pred'])\n",
        "\n",
        "# Merge predicted ratings with the training dataset\n",
        "reg_train = pd.merge(reg_train, bsl_predictions_train_df, on=['user', 'movie'], how='left')\n",
        "reg_train = pd.merge(reg_train, knn_bsl_u_predictions_train_df, on=['user', 'movie'], how='left')\n",
        "reg_train = pd.merge(reg_train, knn_bsl_m_predictions_train_df, on=['user', 'movie'], how='left')\n",
        "\n",
        "# ... (Similar steps for the test data) ...\n",
        "reg_test = pd.read_csv('/content/reg_test.csv', names=['user', 'movie', 'global_avg', 'sim_user1', 'sim_user2', 'sim_user3', 'sim_user4', 'sim_user5', 'sim_movie1', 'sim_movie2', 'sim_movie3', 'sim_movie4', 'sim_movie5', 'user_avg', 'movie_avg', 'rating'])\n",
        "\n",
        "bsl_predictions_test = bsl_algo.test(testset)\n",
        "bsl_predictions_test_df = pd.DataFrame([(pred.uid, pred.iid, pred.est) for pred in bsl_predictions_test], columns=['user', 'movie', 'bsl_pred'])\n",
        "\n",
        "knn_bsl_u_predictions_test = knn_bsl_u.test(testset)\n",
        "knn_bsl_u_predictions_test_df = pd.DataFrame([(pred.uid, pred.iid, pred.est) for pred in knn_bsl_u_predictions_test], columns=['user', 'movie', 'knn_u_pred'])\n",
        "\n",
        "knn_bsl_m_predictions_test = knn_bsl_m.test(testset)\n",
        "knn_bsl_m_predictions_test_df = pd.DataFrame([(pred.uid, pred.iid, pred.est) for pred in knn_bsl_m_predictions_test], columns=['user', 'movie', 'knn_m_pred'])\n",
        "\n",
        "reg_test = pd.merge(reg_test, bsl_predictions_test_df, on=['user', 'movie'], how='left')\n",
        "reg_test = pd.merge(reg_test, knn_bsl_u_predictions_test_df, on=['user', 'movie'], how='left')\n",
        "reg_test = pd.merge(reg_test, knn_bsl_m_predictions_test_df, on=['user', 'movie'], how='left')\n",
        "\n",
        "\n"
      ],
      "metadata": {
        "id": "E0BazKekQtnA"
      },
      "execution_count": null,
      "outputs": []
    },
    {
      "cell_type": "code",
      "source": [
        "start_time = time.time()\n",
        "\n",
        "train_results, test_results, feature_importance = run_xgboost(reg_train, reg_test)\n",
        "\n",
        "end_time = time.time()\n",
        "execution_time = end_time - start_time\n",
        "\n",
        "print(\"XGBoost Regression Results:\")\n",
        "print(\"Train RMSE:\", train_results['rmse'])\n",
        "print(\"Train MAPE:\", train_results['mape'])\n",
        "print(\"Test RMSE:\", test_results['rmse'])\n",
        "print(\"Test MAPE:\", test_results['mape'])\n",
        "print(\"Execution Time:\", execution_time)\n",
        "\n",
        "\n",
        "# Print the most important features\n",
        "feature_importance_df = pd.DataFrame({'Feature': reg_train.drop('rating', axis=1).columns, 'Importance': feature_importance['feature_importance']})\n",
        "feature_importance_df = feature_importance_df.sort_values('Importance', ascending=False)\n",
        "print(\"\\nMost Important Features:\")\n",
        "feature_importance_df"
      ],
      "metadata": {
        "id": "ilWiVjT0UlUm"
      },
      "execution_count": null,
      "outputs": []
    },
    {
      "cell_type": "markdown",
      "source": [
        "### Matrix Factorization technique\n",
        "- r_ui_predicted = mean + b_u + b_i + (q_i)^TP_u\n",
        "- q_i : Representation of item(movie) in latent Factor space\n",
        "- p_u - representation of user in new latent factor space."
      ],
      "metadata": {
        "id": "OAOrC1aqU3Go"
      }
    },
    {
      "cell_type": "code",
      "source": [
        "from surprise import SVD\n",
        "\n",
        "# Create an SVD algorithm instance\n",
        "svd = SVD(n_factors=100, biased=True, random_state=15, verbose= True)\n",
        "\n",
        "# Train and evaluate the SVD algorithm\n",
        "svd_train_results, svd_test_results = run_surprise(svd, trainset, testset)\n",
        "\n",
        "# Store the results\n",
        "model_evaluation_train['svd_algo'] = svd_train_results\n",
        "model_evaluation_test['svd_algo'] = svd_test_results\n",
        "\n"
      ],
      "metadata": {
        "id": "5m6NQEB9XcCz"
      },
      "execution_count": null,
      "outputs": []
    },
    {
      "cell_type": "markdown",
      "source": [
        "### SVD MATRIX Factorization with implicit feedback from user(user rated movies)"
      ],
      "metadata": {
        "id": "0WPPeqE8YgWi"
      }
    },
    {
      "cell_type": "code",
      "source": [
        "from surprise import SVDpp"
      ],
      "metadata": {
        "id": "emKvbsJSYc3E"
      },
      "execution_count": null,
      "outputs": []
    },
    {
      "cell_type": "code",
      "source": [
        "# Create an SVDpp algorithm instance\n",
        "svdpp = SVDpp(n_factors=100, random_state=15, verbose=True)\n",
        "\n",
        "# Train and evaluate the SVDpp algorithm\n",
        "svdpp_train_results, svdpp_test_results = run_surprise(svdpp, trainset, testset)\n",
        "\n",
        "# Store the results\n",
        "model_evaluation_train['svdpp_algo'] = svdpp_train_results\n",
        "model_evaluation_test['svdpp_algo'] = svdpp_test_results\n"
      ],
      "metadata": {
        "id": "OO9LYk2tYsom"
      },
      "execution_count": null,
      "outputs": []
    },
    {
      "cell_type": "code",
      "source": [
        "reg_train = pd.read_csv('/content/reg_train.csv', names=['user', 'movie', 'global_avg', 'sim_user1', 'sim_user2', 'sim_user3', 'sim_user4', 'sim_user5', 'sim_movie1', 'sim_movie2', 'sim_movie3', 'sim_movie4', 'sim_movie5', 'user_avg', 'movie_avg', 'rating'])\n",
        "\n",
        "# Predict ratings using SVD model\n",
        "svd_predictions_train = svd.test(trainset.build_testset())\n",
        "svd_predictions_train_df = pd.DataFrame([(pred.uid, pred.iid, pred.est) for pred in svd_predictions_train], columns=['user', 'movie', 'svd_pred'])\n",
        "\n",
        "# Predict ratings using SVDpp model\n",
        "svdpp_predictions_train = svdpp.test(trainset.build_testset())\n",
        "svdpp_predictions_train_df = pd.DataFrame([(pred.uid, pred.iid, pred.est) for pred in svdpp_predictions_train], columns=['user', 'movie', 'svdpp_pred'])\n",
        "\n",
        "\n",
        "# Merge predicted ratings with the training dataset\n",
        "reg_train = pd.merge(reg_train, svd_predictions_train_df, on=['user', 'movie'], how='left')\n",
        "reg_train = pd.merge(reg_train, svdpp_predictions_train_df, on=['user', 'movie'], how='left')\n",
        "\n",
        "\n",
        "\n",
        "reg_test = pd.read_csv('/content/reg_test.csv', names=['user', 'movie', 'global_avg', 'sim_user1', 'sim_user2', 'sim_user3', 'sim_user4', 'sim_user5', 'sim_movie1', 'sim_movie2', 'sim_movie3', 'sim_movie4', 'sim_movie5', 'user_avg', 'movie_avg', 'rating'])\n",
        "\n",
        "svd_predictions_test = svd.test(testset)\n",
        "svd_predictions_test_df = pd.DataFrame([(pred.uid, pred.iid, pred.est) for pred in svd_predictions_test], columns=['user', 'movie', 'svd_pred'])\n",
        "\n",
        "svdpp_predictions_test = svdpp.test(testset)\n",
        "svdpp_predictions_test_df = pd.DataFrame([(pred.uid, pred.iid, pred.est) for pred in svdpp_predictions_test], columns=['user', 'movie', 'svdpp_pred'])\n",
        "\n",
        "\n",
        "reg_test = pd.merge(reg_test, svd_predictions_test_df, on=['user', 'movie'], how='left')\n",
        "reg_test = pd.merge(reg_test, svdpp_predictions_test_df, on=['user', 'movie'], how='left')"
      ],
      "metadata": {
        "id": "MLfUctS_bkT3"
      },
      "execution_count": null,
      "outputs": []
    },
    {
      "cell_type": "code",
      "source": [
        "start_time = time.time()\n",
        "\n",
        "train_results, test_results, feature_importance = run_xgboost(reg_train, reg_test)\n",
        "\n",
        "end_time = time.time()\n",
        "execution_time = end_time - start_time\n",
        "\n",
        "print(\"XGBoost Regression Results:\")\n",
        "print(\"Train RMSE:\", train_results['rmse'])\n",
        "print(\"Train MAPE:\", train_results['mape'])\n",
        "print(\"Test RMSE:\", test_results['rmse'])\n",
        "print(\"Test MAPE:\", test_results['mape'])\n",
        "print(\"Execution Time:\", execution_time)\n",
        "\n",
        "\n",
        "# Print the most important features\n",
        "feature_importance_df = pd.DataFrame({'Feature': reg_train.drop('rating', axis=1).columns, 'Importance': feature_importance['feature_importance']})\n",
        "feature_importance_df = feature_importance_df.sort_values('Importance', ascending=False)\n",
        "print(\"\\nMost Important Features:\")\n",
        "feature_importance_df\n"
      ],
      "metadata": {
        "id": "38p-AuKjcQF-"
      },
      "execution_count": null,
      "outputs": []
    },
    {
      "cell_type": "code",
      "source": [
        " # Now I would like to do hyperparmeter tuning on this model get the best features\n",
        "\n",
        "import pandas as pd\n",
        "from sklearn.model_selection import GridSearchCV\n",
        "\n",
        "def run_xgboost_with_hyperparameter_tuning(train_df, test_df):\n",
        "  \"\"\"Runs XGBoost regression with hyperparameter tuning and feature selection.\"\"\"\n",
        "\n",
        "  train_results = {}\n",
        "  test_results = {}\n",
        "  feature_importance = {}\n",
        "\n",
        "  X_train = train_df.drop('rating', axis=1)\n",
        "  y_train = train_df['rating']\n",
        "  X_test = test_df.drop('rating', axis=1)\n",
        "  y_test = test_df['rating']\n",
        "\n",
        "  param_grid = {\n",
        "      'n_estimators': [50, 100, 150],\n",
        "      'max_depth': [3, 5, 7],\n",
        "      'learning_rate': [0.01, 0.1, 0.2],\n",
        "      'colsample_bytree': [0.3, 0.5, 0.7],\n",
        "      'alpha': [1, 5, 10]\n",
        "  }\n",
        "\n",
        "  model = xgb.XGBRegressor(objective='reg:squarederror')\n",
        "\n",
        "  #  grid search with cross-validation\n",
        "  grid_search = GridSearchCV(estimator=model, param_grid=param_grid, scoring='neg_mean_squared_error', cv=5, n_jobs=-1)\n",
        "  grid_search.fit(X_train, y_train)\n",
        "\n",
        "  # Get the best model and its parameters\n",
        "  best_model = grid_search.best_estimator_\n",
        "  best_params = grid_search.best_params_\n",
        "\n",
        "  y_train_pred = best_model.predict(X_train)\n",
        "  y_test_pred = best_model.predict(X_test)\n",
        "\n",
        "  train_rmse, train_mape = calculate_rmse_mape(y_train, y_train_pred)\n",
        "  test_rmse, test_mape = calculate_rmse_mape(y_test, y_test_pred)\n",
        "\n",
        "  train_results['rmse'] = train_rmse\n",
        "  train_results['mape'] = train_mape\n",
        "  test_results['rmse'] = test_rmse\n",
        "  test_results['mape'] = test_mape\n",
        "\n",
        "  feature_importance['feature_importance'] = best_model.feature_importances_\n",
        "\n",
        "  return train_results, test_results, feature_importance, best_params\n",
        "\n",
        "\n",
        "start_time = time.time()\n",
        "\n",
        "train_results, test_results, feature_importance, best_params = run_xgboost_with_hyperparameter_tuning(reg_train, reg_test)\n",
        "\n",
        "end_time = time.time()\n",
        "execution_time = end_time - start_time\n",
        "\n",
        "print(\"XGBoost Regression Results (with Hyperparameter Tuning):\")\n",
        "print(\"Train RMSE:\", train_results['rmse'])\n",
        "print(\"Train MAPE:\", train_results['mape'])\n",
        "print(\"Test RMSE:\", test_results['rmse'])\n",
        "print(\"Test MAPE:\", test_results['mape'])\n",
        "print(\"Execution Time:\", execution_time)\n",
        "print(\"Best Hyperparameters:\", best_params)\n",
        "\n",
        "# Print the most important features\n",
        "feature_importance_df = pd.DataFrame({'Feature': reg_train.drop('rating', axis=1).columns, 'Importance': feature_importance['feature_importance']})\n",
        "feature_importance_df = feature_importance_df.sort_values('Importance', ascending=False)\n",
        "print(\"\\nMost Important Features:\")\n",
        "feature_importance_df\n"
      ],
      "metadata": {
        "id": "r0Vah7DOc5bC"
      },
      "execution_count": null,
      "outputs": []
    },
    {
      "cell_type": "code",
      "source": [
        "# prompt: get classification, recall, f1 socre etc.\n",
        "\n",
        "from sklearn.metrics import classification_report, accuracy_score, precision_score, recall_score, f1_score\n",
        "\n",
        "# Assuming you have y_true (actual labels) and y_pred (predicted labels)\n",
        "# Example:\n",
        "# y_true = [1, 0, 1, 1, 0]\n",
        "# y_pred = [1, 1, 1, 0, 0]\n",
        "\n",
        "# Calculate classification metrics\n",
        "print(classification_report(y_true, y_pred))\n",
        "\n",
        "# You can also calculate individual metrics separately:\n",
        "accuracy = accuracy_score(y_true, y_pred)\n",
        "precision = precision_score(y_true, y_pred)\n",
        "recall = recall_score(y_true, y_pred)\n",
        "f1 = f1_score(y_true, y_pred)\n",
        "\n",
        "print(\"Accuracy:\", accuracy)\n",
        "print(\"Precision:\", precision)\n",
        "print(\"Recall:\", recall)\n",
        "print(\"F1-score:\", f1)\n"
      ],
      "metadata": {
        "id": "d0X4D_Qlc3AL"
      },
      "execution_count": null,
      "outputs": []
    },
    {
      "cell_type": "code",
      "source": [
        "# prompt: Generate xg boost with k fold validation , and use early stopping , then again get accuacy , confusion matrix, recall etc , and perform hyperparameter tuning\n",
        "\n",
        "import numpy as np\n",
        "from sklearn.model_selection import KFold\n",
        "from sklearn.metrics import confusion_matrix, accuracy_score, recall_score, precision_score, f1_score\n",
        "\n",
        "def run_xgboost_with_kfold_and_early_stopping(train_df, test_df, n_splits=5, early_stopping_rounds=10):\n",
        "  \"\"\"Runs XGBoost regression with k-fold cross-validation and early stopping.\"\"\"\n",
        "\n",
        "  X_train = train_df.drop('rating', axis=1)\n",
        "  y_train = train_df['rating']\n",
        "  X_test = test_df.drop('rating', axis=1)\n",
        "  y_test = test_df['rating']\n",
        "\n",
        "  # Define the XGBoost model with initial parameters\n",
        "  model = xgb.XGBRegressor(objective='reg:squarederror', n_estimators=1000)  # Large number of estimators for early stopping\n",
        "\n",
        "  # Create a KFold object\n",
        "  kf = KFold(n_splits=n_splits, shuffle=True, random_state=42)\n",
        "\n",
        "  # Initialize lists to store evaluation metrics\n",
        "  train_rmses = []\n",
        "  train_mapes = []\n",
        "  test_rmses = []\n",
        "  test_mapes = []\n",
        "\n",
        "  # Perform k-fold cross-validation\n",
        "  for train_index, val_index in kf.split(X_train):\n",
        "    X_train_fold, X_val_fold = X_train.iloc[train_index], X_train.iloc[val_index]\n",
        "    y_train_fold, y_val_fold = y_train.iloc[train_index], y_train.iloc[val_index]\n",
        "\n",
        "    # Train the model with early stopping\n",
        "    model.fit(X_train_fold, y_train_fold,\n",
        "              eval_set=[(X_val_fold, y_val_fold)],\n",
        "              early_stopping_rounds=early_stopping_rounds,\n",
        "              verbose=False)\n",
        "\n",
        "    # Make predictions on the train and validation sets\n",
        "    y_train_pred_fold = model.predict(X_train_fold)\n",
        "    y_val_pred_fold = model.predict(X_val_fold)\n",
        "\n",
        "    # Calculate RMSE and MAPE for this fold\n",
        "    train_rmse_fold, train_mape_fold = calculate_rmse_mape(y_train_fold, y_train_pred_fold)\n",
        "    test_rmse_fold, test_mape_fold = calculate_rmse_mape(y_val_fold, y_val_pred_fold)\n",
        "\n",
        "    train_rmses.append(train_rmse_fold)\n",
        "    train_mapes.append(train_mape_fold)\n",
        "    test_rmses.append(test_rmse_fold)\n",
        "    test_mapes.append(test_mape_fold)\n",
        "\n",
        "\n",
        "  # Make predictions on the test set\n",
        "  y_test_pred = model.predict(X_test)\n",
        "\n",
        "  # Calculate final RMSE and MAPE for the test set\n",
        "  test_rmse, test_mape = calculate_rmse_mape(y_test, y_test_pred)\n",
        "\n",
        "  # Calculate and print confusion matrix, accuracy, recall, precision, f1-score\n",
        "  # (You may need to adapt this based on your target variable and whether it's a classification problem)\n",
        "  # y_test_pred_class = (y_test_pred > 0.5).astype(int)  # For binary classification\n",
        "  # cm = confusion_matrix(y_test, y_test_pred_class)\n",
        "  # accuracy = accuracy_score(y_test, y_test_pred_class)\n",
        "  # recall = recall_score(y_test, y_test_pred_class)\n",
        "  # precision = precision_score(y_test, y_test_pred_class)\n",
        "  # f1 = f1_score(y_test, y_test_pred_class)\n",
        "\n",
        "\n",
        "  return {\n",
        "      'train_rmse': np.mean(train_rmses),\n",
        "      'train_mape': np.mean(train_mapes),\n",
        "      'test_rmse': test_rmse,\n",
        "      'test_mape': test_mape,\n",
        "      #'confusion_matrix': cm,\n",
        "      #'accuracy': accuracy,\n",
        "      #'recall': recall,\n",
        "      #'precision': precision,\n",
        "      #'f1_score': f1,\n",
        "  }\n",
        "\n",
        "\n",
        "\n",
        "results = run_xgboost_with_kfold_and_early_stopping(reg_train, reg_test)\n",
        "\n",
        "print(\"XGBoost with K-Fold and Early Stopping Results:\")\n",
        "print(\"Train RMSE:\", results['train_rmse'])\n",
        "print(\"Train MAPE:\", results['train_mape'])\n",
        "print(\"Test RMSE:\", results['test_rmse'])\n",
        "print(\"Test MAPE:\", results['test_mape'])\n",
        "#print(\"Confusion Matrix:\", results['confusion_matrix'])\n",
        "#print(\"Accuracy:\", results['accuracy'])\n",
        "#print(\"Recall:\", results['recall'])\n",
        "#print(\"Precision:\", results['precision'])\n",
        "#print(\"F1-Score:\", results['f1_score'])\n",
        "\n",
        "\n",
        "# You can also use the GridSearchCV from sklearn to perform hyperparameter tuning\n",
        "# (See run_xgboost_with_hyperparameter_tuning function for an example)\n",
        "\n"
      ],
      "metadata": {
        "id": "zSuVa1Ztdb2g"
      },
      "execution_count": null,
      "outputs": []
    }
  ]
}